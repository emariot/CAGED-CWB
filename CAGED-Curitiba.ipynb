{
 "cells": [
  {
   "cell_type": "markdown",
   "metadata": {},
   "source": [
    "# Dados do Caged/2019 e Novo-Caged/2020 para Curitiba entre Janeiro e Outubro comparado com a incidência dos casos de Covid em Curitiba no período\n",
    "* Fontes de dados: \n",
    "    * Caged: http://pdet.mte.gov.br/caged-meses-anteriores\n",
    "    * Novo-Caged: http://pdet.mte.gov.br/novo-caged.\n",
    "    * Covide19:"
   ]
  },
  {
   "cell_type": "markdown",
   "metadata": {},
   "source": [
    "##### Pacotes Python:\n",
    "* Pandas: para a leitura dos dados, criação de DataFrame e manipulação dos dados;\n",
    "* Numpy: criação e manipulação de arrays e matrizes;\n",
    "* MatplotLib: para plotar os gráficos."
   ]
  },
  {
   "cell_type": "code",
   "execution_count": 53,
   "metadata": {},
   "outputs": [],
   "source": [
    "import pandas as pd\n",
    "import numpy as np\n",
    "import matplotlib.pyplot as plt\n",
    "%matplotlib inline\n",
    "#%config InlineBackend.figure_format='svg'"
   ]
  },
  {
   "cell_type": "markdown",
   "metadata": {},
   "source": [
    "### Visão geral da planilha: \n",
    "* A planilha possui 12 tabelas, das quais optamos por trabalhar com a última, que disponibiliza os dados consolidados por município (série com ajustes). \n",
    "* Para facilitar, decidimos excluir o cabeçalho da planilha nas três primeiras linhas.    "
   ]
  },
  {
   "cell_type": "code",
   "execution_count": 119,
   "metadata": {},
   "outputs": [],
   "source": [
    "data = np.array([[28165,24631,3534],\n",
    "                 [30979,27382,3597],\n",
    "                 [26931,27702,-771],\n",
    "                 [29202,25584,3618],\n",
    "                 [27675,27211,464],\n",
    "                 [26652,25023,1629],\n",
    "                 [29985,27301,2684],\n",
    "                 [29164,27126,2038],\n",
    "                 [27455,25471,1984],\n",
    "                 [29505,26946,2559]        \n",
    "                 \n",
    "                ])\n",
    "data_19 = pd.DataFrame(data,index=(['jan','fev', 'mar','abr', 'mai','jun','jul','ago','set','out']),columns=['adm', 'desl', 'saldos'])\n",
    "\n"
   ]
  },
  {
   "cell_type": "code",
   "execution_count": 120,
   "metadata": {},
   "outputs": [],
   "source": [
    "df_19 = data_19.transpose().astype(int)"
   ]
  },
  {
   "cell_type": "code",
   "execution_count": 121,
   "metadata": {},
   "outputs": [],
   "source": [
    "data_20 = pd.read_excel('datasets/out_2020.xlsx', sheet_name = \"Tabela 8\", skiprows = range(0, 3))"
   ]
  },
  {
   "cell_type": "markdown",
   "metadata": {},
   "source": [
    "## Tabela Caged/2019:"
   ]
  },
  {
   "cell_type": "code",
   "execution_count": 122,
   "metadata": {},
   "outputs": [
    {
     "data": {
      "text/html": [
       "<div>\n",
       "<style scoped>\n",
       "    .dataframe tbody tr th:only-of-type {\n",
       "        vertical-align: middle;\n",
       "    }\n",
       "\n",
       "    .dataframe tbody tr th {\n",
       "        vertical-align: top;\n",
       "    }\n",
       "\n",
       "    .dataframe thead th {\n",
       "        text-align: right;\n",
       "    }\n",
       "</style>\n",
       "<table border=\"1\" class=\"dataframe\">\n",
       "  <thead>\n",
       "    <tr style=\"text-align: right;\">\n",
       "      <th></th>\n",
       "      <th>jan</th>\n",
       "      <th>fev</th>\n",
       "      <th>mar</th>\n",
       "      <th>abr</th>\n",
       "      <th>mai</th>\n",
       "      <th>jun</th>\n",
       "      <th>jul</th>\n",
       "      <th>ago</th>\n",
       "      <th>set</th>\n",
       "      <th>out</th>\n",
       "    </tr>\n",
       "  </thead>\n",
       "  <tbody>\n",
       "    <tr>\n",
       "      <th>adm</th>\n",
       "      <td>28165</td>\n",
       "      <td>30979</td>\n",
       "      <td>26931</td>\n",
       "      <td>29202</td>\n",
       "      <td>27675</td>\n",
       "      <td>26652</td>\n",
       "      <td>29985</td>\n",
       "      <td>29164</td>\n",
       "      <td>27455</td>\n",
       "      <td>29505</td>\n",
       "    </tr>\n",
       "    <tr>\n",
       "      <th>desl</th>\n",
       "      <td>24631</td>\n",
       "      <td>27382</td>\n",
       "      <td>27702</td>\n",
       "      <td>25584</td>\n",
       "      <td>27211</td>\n",
       "      <td>25023</td>\n",
       "      <td>27301</td>\n",
       "      <td>27126</td>\n",
       "      <td>25471</td>\n",
       "      <td>26946</td>\n",
       "    </tr>\n",
       "    <tr>\n",
       "      <th>saldos</th>\n",
       "      <td>3534</td>\n",
       "      <td>3597</td>\n",
       "      <td>-771</td>\n",
       "      <td>3618</td>\n",
       "      <td>464</td>\n",
       "      <td>1629</td>\n",
       "      <td>2684</td>\n",
       "      <td>2038</td>\n",
       "      <td>1984</td>\n",
       "      <td>2559</td>\n",
       "    </tr>\n",
       "  </tbody>\n",
       "</table>\n",
       "</div>"
      ],
      "text/plain": [
       "          jan    fev    mar    abr    mai    jun    jul    ago    set    out\n",
       "adm     28165  30979  26931  29202  27675  26652  29985  29164  27455  29505\n",
       "desl    24631  27382  27702  25584  27211  25023  27301  27126  25471  26946\n",
       "saldos   3534   3597   -771   3618    464   1629   2684   2038   1984   2559"
      ]
     },
     "execution_count": 122,
     "metadata": {},
     "output_type": "execute_result"
    }
   ],
   "source": [
    "df_19"
   ]
  },
  {
   "cell_type": "markdown",
   "metadata": {},
   "source": [
    "## Tabela Caged/2020:"
   ]
  },
  {
   "cell_type": "code",
   "execution_count": 98,
   "metadata": {},
   "outputs": [
    {
     "data": {
      "text/html": [
       "<div>\n",
       "<style scoped>\n",
       "    .dataframe tbody tr th:only-of-type {\n",
       "        vertical-align: middle;\n",
       "    }\n",
       "\n",
       "    .dataframe tbody tr th {\n",
       "        vertical-align: top;\n",
       "    }\n",
       "\n",
       "    .dataframe thead th {\n",
       "        text-align: right;\n",
       "    }\n",
       "</style>\n",
       "<table border=\"1\" class=\"dataframe\">\n",
       "  <thead>\n",
       "    <tr style=\"text-align: right;\">\n",
       "      <th></th>\n",
       "      <th>Unnamed: 0</th>\n",
       "      <th>Unnamed: 1</th>\n",
       "      <th>Unnamed: 2</th>\n",
       "      <th>Unnamed: 3</th>\n",
       "      <th>Unnamed: 4</th>\n",
       "      <th>Unnamed: 5</th>\n",
       "      <th>Unnamed: 6</th>\n",
       "      <th>Unnamed: 7</th>\n",
       "      <th>Unnamed: 8</th>\n",
       "      <th>Unnamed: 9</th>\n",
       "      <th>...</th>\n",
       "      <th>Unnamed: 61</th>\n",
       "      <th>Unnamed: 62</th>\n",
       "      <th>Unnamed: 63</th>\n",
       "      <th>Unnamed: 64</th>\n",
       "      <th>Unnamed: 65</th>\n",
       "      <th>Unnamed: 66</th>\n",
       "      <th>Unnamed: 67</th>\n",
       "      <th>Unnamed: 68</th>\n",
       "      <th>Unnamed: 69</th>\n",
       "      <th>Unnamed: 70</th>\n",
       "    </tr>\n",
       "  </thead>\n",
       "  <tbody>\n",
       "    <tr>\n",
       "      <th>0</th>\n",
       "      <td>NaN</td>\n",
       "      <td>\\nUF</td>\n",
       "      <td>\\nCódigo do Município</td>\n",
       "      <td>\\nMunicípio</td>\n",
       "      <td>\\nEstoque\\n1º de Janeiro</td>\n",
       "      <td>Janeiro/2020</td>\n",
       "      <td>NaN</td>\n",
       "      <td>NaN</td>\n",
       "      <td>NaN</td>\n",
       "      <td>NaN</td>\n",
       "      <td>...</td>\n",
       "      <td>NaN</td>\n",
       "      <td>NaN</td>\n",
       "      <td>NaN</td>\n",
       "      <td>NaN</td>\n",
       "      <td>\\nAcumulado no Ano</td>\n",
       "      <td>NaN</td>\n",
       "      <td>NaN</td>\n",
       "      <td>NaN</td>\n",
       "      <td>NaN</td>\n",
       "      <td>NaN</td>\n",
       "    </tr>\n",
       "    <tr>\n",
       "      <th>1</th>\n",
       "      <td>NaN</td>\n",
       "      <td>NaN</td>\n",
       "      <td>NaN</td>\n",
       "      <td>NaN</td>\n",
       "      <td>NaN</td>\n",
       "      <td>Estoque</td>\n",
       "      <td>Admissões</td>\n",
       "      <td>Desligamentos</td>\n",
       "      <td>Saldos</td>\n",
       "      <td>Variação Relativa (%)</td>\n",
       "      <td>...</td>\n",
       "      <td>Admissões</td>\n",
       "      <td>Desligamentos</td>\n",
       "      <td>Saldos</td>\n",
       "      <td>Variação Relativa (%)</td>\n",
       "      <td>Admissões</td>\n",
       "      <td>Desligamentos</td>\n",
       "      <td>Saldos</td>\n",
       "      <td>Variação Relativa (%)</td>\n",
       "      <td>NaN</td>\n",
       "      <td>NaN</td>\n",
       "    </tr>\n",
       "    <tr>\n",
       "      <th>2</th>\n",
       "      <td>NaN</td>\n",
       "      <td>NaN</td>\n",
       "      <td>NaN</td>\n",
       "      <td>NaN</td>\n",
       "      <td>NaN</td>\n",
       "      <td>NaN</td>\n",
       "      <td>NaN</td>\n",
       "      <td>NaN</td>\n",
       "      <td>NaN</td>\n",
       "      <td>NaN</td>\n",
       "      <td>...</td>\n",
       "      <td>NaN</td>\n",
       "      <td>NaN</td>\n",
       "      <td>NaN</td>\n",
       "      <td>NaN</td>\n",
       "      <td>NaN</td>\n",
       "      <td>NaN</td>\n",
       "      <td>NaN</td>\n",
       "      <td>NaN</td>\n",
       "      <td>NaN</td>\n",
       "      <td>NaN</td>\n",
       "    </tr>\n",
       "    <tr>\n",
       "      <th>3</th>\n",
       "      <td>NaN</td>\n",
       "      <td>RO</td>\n",
       "      <td>110001</td>\n",
       "      <td>Ro-Alta Floresta D Oeste</td>\n",
       "      <td>1806</td>\n",
       "      <td>1787</td>\n",
       "      <td>51</td>\n",
       "      <td>70</td>\n",
       "      <td>-19</td>\n",
       "      <td>-1.05205</td>\n",
       "      <td>...</td>\n",
       "      <td>---</td>\n",
       "      <td>---</td>\n",
       "      <td>---</td>\n",
       "      <td>---</td>\n",
       "      <td>520</td>\n",
       "      <td>453</td>\n",
       "      <td>67</td>\n",
       "      <td>3.70986</td>\n",
       "      <td>NaN</td>\n",
       "      <td>NaN</td>\n",
       "    </tr>\n",
       "    <tr>\n",
       "      <th>4</th>\n",
       "      <td>NaN</td>\n",
       "      <td>RO</td>\n",
       "      <td>110002</td>\n",
       "      <td>Ro-Ariquemes</td>\n",
       "      <td>15600</td>\n",
       "      <td>15524</td>\n",
       "      <td>537</td>\n",
       "      <td>613</td>\n",
       "      <td>-76</td>\n",
       "      <td>-0.487179</td>\n",
       "      <td>...</td>\n",
       "      <td>---</td>\n",
       "      <td>---</td>\n",
       "      <td>---</td>\n",
       "      <td>---</td>\n",
       "      <td>4998</td>\n",
       "      <td>5083</td>\n",
       "      <td>-85</td>\n",
       "      <td>-0.544872</td>\n",
       "      <td>NaN</td>\n",
       "      <td>NaN</td>\n",
       "    </tr>\n",
       "    <tr>\n",
       "      <th>...</th>\n",
       "      <td>...</td>\n",
       "      <td>...</td>\n",
       "      <td>...</td>\n",
       "      <td>...</td>\n",
       "      <td>...</td>\n",
       "      <td>...</td>\n",
       "      <td>...</td>\n",
       "      <td>...</td>\n",
       "      <td>...</td>\n",
       "      <td>...</td>\n",
       "      <td>...</td>\n",
       "      <td>...</td>\n",
       "      <td>...</td>\n",
       "      <td>...</td>\n",
       "      <td>...</td>\n",
       "      <td>...</td>\n",
       "      <td>...</td>\n",
       "      <td>...</td>\n",
       "      <td>...</td>\n",
       "      <td>...</td>\n",
       "      <td>...</td>\n",
       "    </tr>\n",
       "    <tr>\n",
       "      <th>5636</th>\n",
       "      <td>NaN</td>\n",
       "      <td>NaN</td>\n",
       "      <td>NaN</td>\n",
       "      <td>NaN</td>\n",
       "      <td>NaN</td>\n",
       "      <td>NaN</td>\n",
       "      <td>NaN</td>\n",
       "      <td>NaN</td>\n",
       "      <td>NaN</td>\n",
       "      <td>NaN</td>\n",
       "      <td>...</td>\n",
       "      <td>NaN</td>\n",
       "      <td>NaN</td>\n",
       "      <td>NaN</td>\n",
       "      <td>NaN</td>\n",
       "      <td>NaN</td>\n",
       "      <td>NaN</td>\n",
       "      <td>NaN</td>\n",
       "      <td>NaN</td>\n",
       "      <td>NaN</td>\n",
       "      <td>NaN</td>\n",
       "    </tr>\n",
       "    <tr>\n",
       "      <th>5637</th>\n",
       "      <td>NaN</td>\n",
       "      <td>NaN</td>\n",
       "      <td>NaN</td>\n",
       "      <td>NaN</td>\n",
       "      <td>NaN</td>\n",
       "      <td>NaN</td>\n",
       "      <td>NaN</td>\n",
       "      <td>NaN</td>\n",
       "      <td>NaN</td>\n",
       "      <td>NaN</td>\n",
       "      <td>...</td>\n",
       "      <td>NaN</td>\n",
       "      <td>NaN</td>\n",
       "      <td>NaN</td>\n",
       "      <td>NaN</td>\n",
       "      <td>NaN</td>\n",
       "      <td>NaN</td>\n",
       "      <td>NaN</td>\n",
       "      <td>NaN</td>\n",
       "      <td>NaN</td>\n",
       "      <td>NaN</td>\n",
       "    </tr>\n",
       "    <tr>\n",
       "      <th>5638</th>\n",
       "      <td>NaN</td>\n",
       "      <td>Fonte: Novo Caged – SEPRT/ME.</td>\n",
       "      <td>NaN</td>\n",
       "      <td>NaN</td>\n",
       "      <td>NaN</td>\n",
       "      <td>NaN</td>\n",
       "      <td>NaN</td>\n",
       "      <td>NaN</td>\n",
       "      <td>NaN</td>\n",
       "      <td>NaN</td>\n",
       "      <td>...</td>\n",
       "      <td>NaN</td>\n",
       "      <td>NaN</td>\n",
       "      <td>NaN</td>\n",
       "      <td>NaN</td>\n",
       "      <td>NaN</td>\n",
       "      <td>NaN</td>\n",
       "      <td>NaN</td>\n",
       "      <td>NaN</td>\n",
       "      <td>NaN</td>\n",
       "      <td>NaN</td>\n",
       "    </tr>\n",
       "    <tr>\n",
       "      <th>5639</th>\n",
       "      <td>NaN</td>\n",
       "      <td>NaN</td>\n",
       "      <td>NaN</td>\n",
       "      <td>NaN</td>\n",
       "      <td>NaN</td>\n",
       "      <td>NaN</td>\n",
       "      <td>NaN</td>\n",
       "      <td>NaN</td>\n",
       "      <td>NaN</td>\n",
       "      <td>NaN</td>\n",
       "      <td>...</td>\n",
       "      <td>NaN</td>\n",
       "      <td>NaN</td>\n",
       "      <td>NaN</td>\n",
       "      <td>NaN</td>\n",
       "      <td>NaN</td>\n",
       "      <td>NaN</td>\n",
       "      <td>NaN</td>\n",
       "      <td>NaN</td>\n",
       "      <td>NaN</td>\n",
       "      <td>NaN</td>\n",
       "    </tr>\n",
       "    <tr>\n",
       "      <th>5640</th>\n",
       "      <td>NaN</td>\n",
       "      <td>* O estoque total considera os saldos não iden...</td>\n",
       "      <td>NaN</td>\n",
       "      <td>NaN</td>\n",
       "      <td>NaN</td>\n",
       "      <td>NaN</td>\n",
       "      <td>NaN</td>\n",
       "      <td>NaN</td>\n",
       "      <td>NaN</td>\n",
       "      <td>NaN</td>\n",
       "      <td>...</td>\n",
       "      <td>NaN</td>\n",
       "      <td>NaN</td>\n",
       "      <td>NaN</td>\n",
       "      <td>NaN</td>\n",
       "      <td>NaN</td>\n",
       "      <td>NaN</td>\n",
       "      <td>NaN</td>\n",
       "      <td>NaN</td>\n",
       "      <td>NaN</td>\n",
       "      <td>NaN</td>\n",
       "    </tr>\n",
       "  </tbody>\n",
       "</table>\n",
       "<p>5641 rows × 71 columns</p>\n",
       "</div>"
      ],
      "text/plain": [
       "      Unnamed: 0                                         Unnamed: 1  \\\n",
       "0            NaN                                               \\nUF   \n",
       "1            NaN                                                NaN   \n",
       "2            NaN                                                NaN   \n",
       "3            NaN                                                 RO   \n",
       "4            NaN                                                 RO   \n",
       "...          ...                                                ...   \n",
       "5636         NaN                                                NaN   \n",
       "5637         NaN                                                NaN   \n",
       "5638         NaN                      Fonte: Novo Caged – SEPRT/ME.   \n",
       "5639         NaN                                                NaN   \n",
       "5640         NaN  * O estoque total considera os saldos não iden...   \n",
       "\n",
       "                 Unnamed: 2                Unnamed: 3  \\\n",
       "0     \\nCódigo do Município               \\nMunicípio   \n",
       "1                       NaN                       NaN   \n",
       "2                       NaN                       NaN   \n",
       "3                    110001  Ro-Alta Floresta D Oeste   \n",
       "4                    110002              Ro-Ariquemes   \n",
       "...                     ...                       ...   \n",
       "5636                    NaN                       NaN   \n",
       "5637                    NaN                       NaN   \n",
       "5638                    NaN                       NaN   \n",
       "5639                    NaN                       NaN   \n",
       "5640                    NaN                       NaN   \n",
       "\n",
       "                    Unnamed: 4    Unnamed: 5 Unnamed: 6     Unnamed: 7  \\\n",
       "0     \\nEstoque\\n1º de Janeiro  Janeiro/2020        NaN            NaN   \n",
       "1                          NaN       Estoque  Admissões  Desligamentos   \n",
       "2                          NaN           NaN        NaN            NaN   \n",
       "3                         1806          1787         51             70   \n",
       "4                        15600         15524        537            613   \n",
       "...                        ...           ...        ...            ...   \n",
       "5636                       NaN           NaN        NaN            NaN   \n",
       "5637                       NaN           NaN        NaN            NaN   \n",
       "5638                       NaN           NaN        NaN            NaN   \n",
       "5639                       NaN           NaN        NaN            NaN   \n",
       "5640                       NaN           NaN        NaN            NaN   \n",
       "\n",
       "     Unnamed: 8             Unnamed: 9  ... Unnamed: 61    Unnamed: 62  \\\n",
       "0           NaN                    NaN  ...         NaN            NaN   \n",
       "1        Saldos  Variação Relativa (%)  ...   Admissões  Desligamentos   \n",
       "2           NaN                    NaN  ...         NaN            NaN   \n",
       "3           -19               -1.05205  ...         ---            ---   \n",
       "4           -76              -0.487179  ...         ---            ---   \n",
       "...         ...                    ...  ...         ...            ...   \n",
       "5636        NaN                    NaN  ...         NaN            NaN   \n",
       "5637        NaN                    NaN  ...         NaN            NaN   \n",
       "5638        NaN                    NaN  ...         NaN            NaN   \n",
       "5639        NaN                    NaN  ...         NaN            NaN   \n",
       "5640        NaN                    NaN  ...         NaN            NaN   \n",
       "\n",
       "     Unnamed: 63            Unnamed: 64         Unnamed: 65    Unnamed: 66  \\\n",
       "0            NaN                    NaN  \\nAcumulado no Ano            NaN   \n",
       "1         Saldos  Variação Relativa (%)           Admissões  Desligamentos   \n",
       "2            NaN                    NaN                 NaN            NaN   \n",
       "3            ---                    ---                 520            453   \n",
       "4            ---                    ---                4998           5083   \n",
       "...          ...                    ...                 ...            ...   \n",
       "5636         NaN                    NaN                 NaN            NaN   \n",
       "5637         NaN                    NaN                 NaN            NaN   \n",
       "5638         NaN                    NaN                 NaN            NaN   \n",
       "5639         NaN                    NaN                 NaN            NaN   \n",
       "5640         NaN                    NaN                 NaN            NaN   \n",
       "\n",
       "     Unnamed: 67            Unnamed: 68 Unnamed: 69 Unnamed: 70  \n",
       "0            NaN                    NaN         NaN         NaN  \n",
       "1         Saldos  Variação Relativa (%)         NaN         NaN  \n",
       "2            NaN                    NaN         NaN         NaN  \n",
       "3             67                3.70986         NaN         NaN  \n",
       "4            -85              -0.544872         NaN         NaN  \n",
       "...          ...                    ...         ...         ...  \n",
       "5636         NaN                    NaN         NaN         NaN  \n",
       "5637         NaN                    NaN         NaN         NaN  \n",
       "5638         NaN                    NaN         NaN         NaN  \n",
       "5639         NaN                    NaN         NaN         NaN  \n",
       "5640         NaN                    NaN         NaN         NaN  \n",
       "\n",
       "[5641 rows x 71 columns]"
      ]
     },
     "execution_count": 98,
     "metadata": {},
     "output_type": "execute_result"
    }
   ],
   "source": [
    "data_20"
   ]
  },
  {
   "cell_type": "markdown",
   "metadata": {},
   "source": [
    "* Primeiramente vamos isolar os dados de Curitiba, que mais nos interesssa. Em seguida, excluiremos a coluna do índice 'Unnamed: 0' e 3 outras colunas vazias que vieram com o dataset, 'Unnamed: 1', 'Unnamed: 69', 'Unnamed: 70' "
   ]
  },
  {
   "cell_type": "code",
   "execution_count": 99,
   "metadata": {},
   "outputs": [
    {
     "data": {
      "text/html": [
       "<div>\n",
       "<style scoped>\n",
       "    .dataframe tbody tr th:only-of-type {\n",
       "        vertical-align: middle;\n",
       "    }\n",
       "\n",
       "    .dataframe tbody tr th {\n",
       "        vertical-align: top;\n",
       "    }\n",
       "\n",
       "    .dataframe thead th {\n",
       "        text-align: right;\n",
       "    }\n",
       "</style>\n",
       "<table border=\"1\" class=\"dataframe\">\n",
       "  <thead>\n",
       "    <tr style=\"text-align: right;\">\n",
       "      <th></th>\n",
       "      <th>Unnamed: 2</th>\n",
       "      <th>Unnamed: 3</th>\n",
       "      <th>Unnamed: 4</th>\n",
       "      <th>Unnamed: 5</th>\n",
       "      <th>Unnamed: 6</th>\n",
       "      <th>Unnamed: 7</th>\n",
       "      <th>Unnamed: 8</th>\n",
       "      <th>Unnamed: 9</th>\n",
       "      <th>Unnamed: 10</th>\n",
       "      <th>Unnamed: 11</th>\n",
       "      <th>...</th>\n",
       "      <th>Unnamed: 59</th>\n",
       "      <th>Unnamed: 60</th>\n",
       "      <th>Unnamed: 61</th>\n",
       "      <th>Unnamed: 62</th>\n",
       "      <th>Unnamed: 63</th>\n",
       "      <th>Unnamed: 64</th>\n",
       "      <th>Unnamed: 65</th>\n",
       "      <th>Unnamed: 66</th>\n",
       "      <th>Unnamed: 67</th>\n",
       "      <th>Unnamed: 68</th>\n",
       "    </tr>\n",
       "  </thead>\n",
       "  <tbody>\n",
       "    <tr>\n",
       "      <th>4008</th>\n",
       "      <td>410690</td>\n",
       "      <td>Pr-Curitiba</td>\n",
       "      <td>695480</td>\n",
       "      <td>701392</td>\n",
       "      <td>32248</td>\n",
       "      <td>26336</td>\n",
       "      <td>5912</td>\n",
       "      <td>0.85006</td>\n",
       "      <td>710539</td>\n",
       "      <td>38110</td>\n",
       "      <td>...</td>\n",
       "      <td>---</td>\n",
       "      <td>---</td>\n",
       "      <td>---</td>\n",
       "      <td>---</td>\n",
       "      <td>---</td>\n",
       "      <td>---</td>\n",
       "      <td>262105</td>\n",
       "      <td>265151</td>\n",
       "      <td>-3046</td>\n",
       "      <td>-0.437971</td>\n",
       "    </tr>\n",
       "  </tbody>\n",
       "</table>\n",
       "<p>1 rows × 67 columns</p>\n",
       "</div>"
      ],
      "text/plain": [
       "     Unnamed: 2   Unnamed: 3 Unnamed: 4 Unnamed: 5 Unnamed: 6 Unnamed: 7  \\\n",
       "4008     410690  Pr-Curitiba     695480     701392      32248      26336   \n",
       "\n",
       "     Unnamed: 8 Unnamed: 9 Unnamed: 10 Unnamed: 11  ... Unnamed: 59  \\\n",
       "4008       5912    0.85006      710539       38110  ...         ---   \n",
       "\n",
       "     Unnamed: 60 Unnamed: 61 Unnamed: 62 Unnamed: 63 Unnamed: 64 Unnamed: 65  \\\n",
       "4008         ---         ---         ---         ---         ---      262105   \n",
       "\n",
       "     Unnamed: 66 Unnamed: 67 Unnamed: 68  \n",
       "4008      265151       -3046   -0.437971  \n",
       "\n",
       "[1 rows x 67 columns]"
      ]
     },
     "execution_count": 99,
     "metadata": {},
     "output_type": "execute_result"
    }
   ],
   "source": [
    "ctba = data_20.loc[data_20['Unnamed: 2']==410690]\n",
    "ctba = ctba.drop(columns=['Unnamed: 0', 'Unnamed: 1', 'Unnamed: 69', 'Unnamed: 70'])\n",
    "ctba"
   ]
  },
  {
   "cell_type": "code",
   "execution_count": 100,
   "metadata": {},
   "outputs": [],
   "source": [
    "name = ctba.columns"
   ]
  },
  {
   "cell_type": "markdown",
   "metadata": {},
   "source": [
    "* Agora seria interessante renomear as colunas, que são nossas variáveis.\n",
    "* Temos 67 colunas, das quais as 3 primeiras são dados estáticos (Código do município, Nome do Município e Estoque de Janeiro)\n",
    "* Ao final, temos mais 4 colunas com os totais das variáveis.\n",
    "* A idéia seria criar um código que renomeie as colunas com a variavel + nome dos meses, descontando as 3 primeiras e as 4 últimas colunas.\n"
   ]
  },
  {
   "cell_type": "code",
   "execution_count": 101,
   "metadata": {},
   "outputs": [
    {
     "data": {
      "text/plain": [
       "Index(['Unnamed: 5', 'Unnamed: 6', 'Unnamed: 7', 'Unnamed: 8', 'Unnamed: 9',\n",
       "       'Unnamed: 10', 'Unnamed: 11', 'Unnamed: 12', 'Unnamed: 13',\n",
       "       'Unnamed: 14', 'Unnamed: 15', 'Unnamed: 16', 'Unnamed: 17',\n",
       "       'Unnamed: 18', 'Unnamed: 19', 'Unnamed: 20', 'Unnamed: 21',\n",
       "       'Unnamed: 22', 'Unnamed: 23', 'Unnamed: 24', 'Unnamed: 25',\n",
       "       'Unnamed: 26', 'Unnamed: 27', 'Unnamed: 28', 'Unnamed: 29',\n",
       "       'Unnamed: 30', 'Unnamed: 31', 'Unnamed: 32', 'Unnamed: 33',\n",
       "       'Unnamed: 34', 'Unnamed: 35', 'Unnamed: 36', 'Unnamed: 37',\n",
       "       'Unnamed: 38', 'Unnamed: 39', 'Unnamed: 40', 'Unnamed: 41',\n",
       "       'Unnamed: 42', 'Unnamed: 43', 'Unnamed: 44', 'Unnamed: 45',\n",
       "       'Unnamed: 46', 'Unnamed: 47', 'Unnamed: 48', 'Unnamed: 49',\n",
       "       'Unnamed: 50', 'Unnamed: 51', 'Unnamed: 52', 'Unnamed: 53',\n",
       "       'Unnamed: 54', 'Unnamed: 55', 'Unnamed: 56', 'Unnamed: 57',\n",
       "       'Unnamed: 58', 'Unnamed: 59', 'Unnamed: 60', 'Unnamed: 61',\n",
       "       'Unnamed: 62', 'Unnamed: 63', 'Unnamed: 64'],\n",
       "      dtype='object')"
      ]
     },
     "execution_count": 101,
     "metadata": {},
     "output_type": "execute_result"
    }
   ],
   "source": [
    "# Colunas que devemos trabalhar \n",
    "name[3:63]"
   ]
  },
  {
   "cell_type": "markdown",
   "metadata": {},
   "source": [
    "#### É muito provável que existam soluções mais dinâmicas em pandas, mas como não encontrei, criei a seguinte lógica que funcionou, mas que deve ser refatorada.\n",
    "* Depois de criar as listas que guardam os meses, os nomes das linhas e dois contadores ('c' e 'm'), iniciamos o loop que percorrerá todas as 67 colunas (lembrando que os índices em Python iniciam sempre em zero, portanto devemos terminar em 68).\n",
    "* As 3 primeiras colunas são dos dados estáticos, que são renomeadas manualmente (neste ponto comecei a refatorar o código criando a função 'name_col' que renomearia todas as colunas, mas é preciso incluir uma lógica para renomear as colunas dinâmicas.\n",
    "* Em seguida, o loop entra nas colunas de variáveis dinâmicas, onde entra em jogo nosso primeiro contador 'm', que irá incluir o nome dos meses sempre de cinco em cinco variáveis. \n",
    "* A baixo segue impresso os índices que permitiram renomar as variáveis: conjunto: 3,4,5,6,7 (que são trazidos pelo loop) combina com (0,1,2,3,4) trazidos pelo contador 'c' (que aplica o nome da variável contido na lista 'new_name') e conjunto:(0,0,0,0,0) que corresponde ao mês, contido na variável 'mes' e trazido palo contador 'm'. "
   ]
  },
  {
   "cell_type": "code",
   "execution_count": 102,
   "metadata": {
    "scrolled": false
   },
   "outputs": [],
   "source": [
    "#name = ['Unnamed: '+str(n) for n in range(2,71)]\n",
    "\n",
    "# Função \n",
    "def name_col(col, str_):\n",
    "    name_col = ctba.rename(columns={name[col]:str_}, inplace=True)\n",
    "    return name_col\n",
    "\n",
    "mes = ['jan', 'fev', 'mar', 'abr', 'mai', 'jun', 'jul', 'ago', 'set', 'out', 'nov', 'dez']\n",
    "new_name = ['estoque', 'adm', 'desl', 'saldos', 'var']\n",
    "c = 0\n",
    "m = 0\n",
    "\n",
    "for col in range(0,68):    \n",
    "    if col == 0:\n",
    "        name_col(col, 'cod')        \n",
    "    elif col == 1:\n",
    "        name_col(col, 'municipio')        \n",
    "    elif col == 2:\n",
    "        name_col(col, 'estoque_1_jan')     \n",
    "    elif col < 63:\n",
    "        if m <= 12:\n",
    "            if c <= 4:\n",
    "                #print(col, c, m)\n",
    "                ctba.rename(columns={name[col]:new_name[c]+\"_\"+mes[m]}, inplace=True)\n",
    "                c = c + 1\n",
    "            else:\n",
    "                c = 0\n",
    "                m += 1\n",
    "                #print(col, c, m)\n",
    "                ctba.rename(columns={name[col]:new_name[c]+\"_\"+mes[m]}, inplace=True)\n",
    "                c += 1\n",
    "                \n",
    "    elif col == 63:\n",
    "        \n",
    "        ctba.rename(columns={name[col]:'adm_ano'}, inplace=True)\n",
    "    elif col == 64:\n",
    "        \n",
    "        ctba.rename(columns={name[col]:'des_ano'}, inplace=True)\n",
    "    elif col == 65:\n",
    "        \n",
    "        ctba.rename(columns={name[col]:'saldos_ano'}, inplace=True)\n",
    "    elif col == 66:\n",
    "        \n",
    "        ctba.rename(columns={name[col]:'var_ano'}, inplace=True)\n",
    "    else:\n",
    "        break"
   ]
  },
  {
   "cell_type": "markdown",
   "metadata": {},
   "source": [
    "## Resultado do DataSete"
   ]
  },
  {
   "cell_type": "code",
   "execution_count": 103,
   "metadata": {},
   "outputs": [
    {
     "data": {
      "text/html": [
       "<div>\n",
       "<style scoped>\n",
       "    .dataframe tbody tr th:only-of-type {\n",
       "        vertical-align: middle;\n",
       "    }\n",
       "\n",
       "    .dataframe tbody tr th {\n",
       "        vertical-align: top;\n",
       "    }\n",
       "\n",
       "    .dataframe thead th {\n",
       "        text-align: right;\n",
       "    }\n",
       "</style>\n",
       "<table border=\"1\" class=\"dataframe\">\n",
       "  <thead>\n",
       "    <tr style=\"text-align: right;\">\n",
       "      <th></th>\n",
       "      <th>cod</th>\n",
       "      <th>municipio</th>\n",
       "      <th>estoque_1_jan</th>\n",
       "      <th>estoque_jan</th>\n",
       "      <th>adm_jan</th>\n",
       "      <th>desl_jan</th>\n",
       "      <th>saldos_jan</th>\n",
       "      <th>var_jan</th>\n",
       "      <th>estoque_fev</th>\n",
       "      <th>adm_fev</th>\n",
       "      <th>...</th>\n",
       "      <th>var_nov</th>\n",
       "      <th>estoque_dez</th>\n",
       "      <th>adm_dez</th>\n",
       "      <th>desl_dez</th>\n",
       "      <th>saldos_dez</th>\n",
       "      <th>var_dez</th>\n",
       "      <th>adm_ano</th>\n",
       "      <th>des_ano</th>\n",
       "      <th>saldos_ano</th>\n",
       "      <th>var_ano</th>\n",
       "    </tr>\n",
       "  </thead>\n",
       "  <tbody>\n",
       "    <tr>\n",
       "      <th>4008</th>\n",
       "      <td>410690</td>\n",
       "      <td>Pr-Curitiba</td>\n",
       "      <td>695480</td>\n",
       "      <td>701392</td>\n",
       "      <td>32248</td>\n",
       "      <td>26336</td>\n",
       "      <td>5912</td>\n",
       "      <td>0.85006</td>\n",
       "      <td>710539</td>\n",
       "      <td>38110</td>\n",
       "      <td>...</td>\n",
       "      <td>---</td>\n",
       "      <td>---</td>\n",
       "      <td>---</td>\n",
       "      <td>---</td>\n",
       "      <td>---</td>\n",
       "      <td>---</td>\n",
       "      <td>262105</td>\n",
       "      <td>265151</td>\n",
       "      <td>-3046</td>\n",
       "      <td>-0.437971</td>\n",
       "    </tr>\n",
       "  </tbody>\n",
       "</table>\n",
       "<p>1 rows × 67 columns</p>\n",
       "</div>"
      ],
      "text/plain": [
       "         cod    municipio estoque_1_jan estoque_jan adm_jan desl_jan  \\\n",
       "4008  410690  Pr-Curitiba        695480      701392   32248    26336   \n",
       "\n",
       "     saldos_jan  var_jan estoque_fev adm_fev  ... var_nov estoque_dez adm_dez  \\\n",
       "4008       5912  0.85006      710539   38110  ...     ---         ---     ---   \n",
       "\n",
       "     desl_dez saldos_dez var_dez adm_ano des_ano saldos_ano   var_ano  \n",
       "4008      ---        ---     ---  262105  265151      -3046 -0.437971  \n",
       "\n",
       "[1 rows x 67 columns]"
      ]
     },
     "execution_count": 103,
     "metadata": {},
     "output_type": "execute_result"
    }
   ],
   "source": [
    "ctba"
   ]
  },
  {
   "cell_type": "markdown",
   "metadata": {},
   "source": [
    "* Aqui guardamos o conjunto de dados nas variáveis dos meses.\n",
    "* Pode haver solução mais viável"
   ]
  },
  {
   "cell_type": "code",
   "execution_count": 104,
   "metadata": {},
   "outputs": [],
   "source": [
    "jan = ctba.loc[:,'estoque_jan':'var_jan'].values\n",
    "fev = ctba.loc[:,'estoque_fev':'var_fev'].values\n",
    "mar = ctba.loc[:,'estoque_mar':'var_mar'].values\n",
    "abr = ctba.loc[:,'estoque_abr':'var_abr'].values\n",
    "mai = ctba.loc[:,'estoque_mai':'var_mai'].values\n",
    "jun = ctba.loc[:,'estoque_jun':'var_jun'].values\n",
    "jul = ctba.loc[:,'estoque_jul':'var_jul'].values\n",
    "ago = ctba.loc[:,'estoque_ago':'var_ago'].values\n",
    "set_ = ctba.loc[:,'estoque_set':'var_set'].values\n",
    "out = ctba.loc[:,'estoque_out':'var_out'].values\n",
    "nov = ctba.loc[:,'estoque_nov':'var_nov'].values\n",
    "dez = ctba.loc[:,'estoque_dez':'var_dez'].values"
   ]
  },
  {
   "cell_type": "markdown",
   "metadata": {},
   "source": [
    "* Como o objeto 'values' retorna um array, e o pandas aceita criação de DataFrame com conjunto de listas, tive que concatenar todas as variáveis em um único array. \n",
    "* Não encontrei outra solução mais viável, embora exista."
   ]
  },
  {
   "cell_type": "code",
   "execution_count": 109,
   "metadata": {},
   "outputs": [
    {
     "data": {
      "text/plain": [
       "array([[701392, 32248, 26336, 5912, 0.850060389946512],\n",
       "       [710539, 38110, 28963, 9147, 1.30412094805758],\n",
       "       [699498, 29448, 40489, -11041, -1.55389077869054],\n",
       "       [681139, 12151, 30510, -18359, -2.62459649634452],\n",
       "       [673051, 16074, 24162, -8088, -1.18742283146318],\n",
       "       [673352, 20826, 20525, 301, 0.0447217224251951],\n",
       "       [673505, 18660, 18507, 153, 0.0227221423564495],\n",
       "       [676724, 26096, 22877, 3219, 0.477947453990691],\n",
       "       [680730, 29424, 25418, 4006, 0.591969547407806],\n",
       "       [692434, 39068, 27364, 11704, 1.71933071849338],\n",
       "       ['---', '---', '---', '---', '---'],\n",
       "       ['---', '---', '---', '---', '---']], dtype=object)"
      ]
     },
     "execution_count": 109,
     "metadata": {},
     "output_type": "execute_result"
    }
   ],
   "source": [
    "data = conc((jan, fev, mar, abr, mai, jun, jul, ago, set_, out, nov, dez))\n",
    "data"
   ]
  },
  {
   "cell_type": "markdown",
   "metadata": {},
   "source": [
    "* Emfim, foi possível criar o DataFrame organizado dos dados de Ctba, mas foi necessário aplicar a transposição dos dados"
   ]
  },
  {
   "cell_type": "code",
   "execution_count": 115,
   "metadata": {},
   "outputs": [],
   "source": [
    "df_20 = pd.DataFrame(data, index= mes, columns = new_name)\n",
    "df_20 = df_20.transpose().drop(columns=['nov', 'dez'])"
   ]
  },
  {
   "cell_type": "code",
   "execution_count": 116,
   "metadata": {},
   "outputs": [
    {
     "data": {
      "text/html": [
       "<div>\n",
       "<style scoped>\n",
       "    .dataframe tbody tr th:only-of-type {\n",
       "        vertical-align: middle;\n",
       "    }\n",
       "\n",
       "    .dataframe tbody tr th {\n",
       "        vertical-align: top;\n",
       "    }\n",
       "\n",
       "    .dataframe thead th {\n",
       "        text-align: right;\n",
       "    }\n",
       "</style>\n",
       "<table border=\"1\" class=\"dataframe\">\n",
       "  <thead>\n",
       "    <tr style=\"text-align: right;\">\n",
       "      <th></th>\n",
       "      <th>jan</th>\n",
       "      <th>fev</th>\n",
       "      <th>mar</th>\n",
       "      <th>abr</th>\n",
       "      <th>mai</th>\n",
       "      <th>jun</th>\n",
       "      <th>jul</th>\n",
       "      <th>ago</th>\n",
       "      <th>set</th>\n",
       "      <th>out</th>\n",
       "    </tr>\n",
       "  </thead>\n",
       "  <tbody>\n",
       "    <tr>\n",
       "      <th>estoque</th>\n",
       "      <td>701392</td>\n",
       "      <td>710539</td>\n",
       "      <td>699498</td>\n",
       "      <td>681139</td>\n",
       "      <td>673051</td>\n",
       "      <td>673352</td>\n",
       "      <td>673505</td>\n",
       "      <td>676724</td>\n",
       "      <td>680730</td>\n",
       "      <td>692434</td>\n",
       "    </tr>\n",
       "    <tr>\n",
       "      <th>adm</th>\n",
       "      <td>32248</td>\n",
       "      <td>38110</td>\n",
       "      <td>29448</td>\n",
       "      <td>12151</td>\n",
       "      <td>16074</td>\n",
       "      <td>20826</td>\n",
       "      <td>18660</td>\n",
       "      <td>26096</td>\n",
       "      <td>29424</td>\n",
       "      <td>39068</td>\n",
       "    </tr>\n",
       "    <tr>\n",
       "      <th>desl</th>\n",
       "      <td>26336</td>\n",
       "      <td>28963</td>\n",
       "      <td>40489</td>\n",
       "      <td>30510</td>\n",
       "      <td>24162</td>\n",
       "      <td>20525</td>\n",
       "      <td>18507</td>\n",
       "      <td>22877</td>\n",
       "      <td>25418</td>\n",
       "      <td>27364</td>\n",
       "    </tr>\n",
       "    <tr>\n",
       "      <th>saldos</th>\n",
       "      <td>5912</td>\n",
       "      <td>9147</td>\n",
       "      <td>-11041</td>\n",
       "      <td>-18359</td>\n",
       "      <td>-8088</td>\n",
       "      <td>301</td>\n",
       "      <td>153</td>\n",
       "      <td>3219</td>\n",
       "      <td>4006</td>\n",
       "      <td>11704</td>\n",
       "    </tr>\n",
       "    <tr>\n",
       "      <th>var</th>\n",
       "      <td>0.85006</td>\n",
       "      <td>1.30412</td>\n",
       "      <td>-1.55389</td>\n",
       "      <td>-2.6246</td>\n",
       "      <td>-1.18742</td>\n",
       "      <td>0.0447217</td>\n",
       "      <td>0.0227221</td>\n",
       "      <td>0.477947</td>\n",
       "      <td>0.59197</td>\n",
       "      <td>1.71933</td>\n",
       "    </tr>\n",
       "  </tbody>\n",
       "</table>\n",
       "</div>"
      ],
      "text/plain": [
       "             jan      fev      mar     abr      mai        jun        jul  \\\n",
       "estoque   701392   710539   699498  681139   673051     673352     673505   \n",
       "adm        32248    38110    29448   12151    16074      20826      18660   \n",
       "desl       26336    28963    40489   30510    24162      20525      18507   \n",
       "saldos      5912     9147   -11041  -18359    -8088        301        153   \n",
       "var      0.85006  1.30412 -1.55389 -2.6246 -1.18742  0.0447217  0.0227221   \n",
       "\n",
       "              ago      set      out  \n",
       "estoque    676724   680730   692434  \n",
       "adm         26096    29424    39068  \n",
       "desl        22877    25418    27364  \n",
       "saldos       3219     4006    11704  \n",
       "var      0.477947  0.59197  1.71933  "
      ]
     },
     "execution_count": 116,
     "metadata": {},
     "output_type": "execute_result"
    }
   ],
   "source": [
    "df_20"
   ]
  },
  {
   "cell_type": "code",
   "execution_count": 117,
   "metadata": {},
   "outputs": [
    {
     "data": {
      "text/html": [
       "<div>\n",
       "<style scoped>\n",
       "    .dataframe tbody tr th:only-of-type {\n",
       "        vertical-align: middle;\n",
       "    }\n",
       "\n",
       "    .dataframe tbody tr th {\n",
       "        vertical-align: top;\n",
       "    }\n",
       "\n",
       "    .dataframe thead th {\n",
       "        text-align: right;\n",
       "    }\n",
       "</style>\n",
       "<table border=\"1\" class=\"dataframe\">\n",
       "  <thead>\n",
       "    <tr style=\"text-align: right;\">\n",
       "      <th></th>\n",
       "      <th>jan</th>\n",
       "      <th>fev</th>\n",
       "      <th>mar</th>\n",
       "      <th>abr</th>\n",
       "      <th>mai</th>\n",
       "      <th>jun</th>\n",
       "      <th>jul</th>\n",
       "      <th>ago</th>\n",
       "      <th>set</th>\n",
       "      <th>out</th>\n",
       "    </tr>\n",
       "  </thead>\n",
       "  <tbody>\n",
       "    <tr>\n",
       "      <th>adm</th>\n",
       "      <td>28165</td>\n",
       "      <td>30979</td>\n",
       "      <td>26931</td>\n",
       "      <td>29202</td>\n",
       "      <td>27675</td>\n",
       "      <td>26652</td>\n",
       "      <td>29985</td>\n",
       "      <td>29164</td>\n",
       "      <td>27455</td>\n",
       "      <td>29505</td>\n",
       "    </tr>\n",
       "    <tr>\n",
       "      <th>des</th>\n",
       "      <td>24631</td>\n",
       "      <td>27382</td>\n",
       "      <td>27702</td>\n",
       "      <td>25584</td>\n",
       "      <td>27211</td>\n",
       "      <td>25023</td>\n",
       "      <td>27301</td>\n",
       "      <td>27126</td>\n",
       "      <td>25471</td>\n",
       "      <td>26946</td>\n",
       "    </tr>\n",
       "    <tr>\n",
       "      <th>saldos</th>\n",
       "      <td>3534</td>\n",
       "      <td>3597</td>\n",
       "      <td>-771</td>\n",
       "      <td>3618</td>\n",
       "      <td>464</td>\n",
       "      <td>1629</td>\n",
       "      <td>2684</td>\n",
       "      <td>2038</td>\n",
       "      <td>1984</td>\n",
       "      <td>2559</td>\n",
       "    </tr>\n",
       "  </tbody>\n",
       "</table>\n",
       "</div>"
      ],
      "text/plain": [
       "          jan    fev    mar    abr    mai    jun    jul    ago    set    out\n",
       "adm     28165  30979  26931  29202  27675  26652  29985  29164  27455  29505\n",
       "des     24631  27382  27702  25584  27211  25023  27301  27126  25471  26946\n",
       "saldos   3534   3597   -771   3618    464   1629   2684   2038   1984   2559"
      ]
     },
     "execution_count": 117,
     "metadata": {},
     "output_type": "execute_result"
    }
   ],
   "source": [
    "df_19"
   ]
  },
  {
   "cell_type": "markdown",
   "metadata": {},
   "source": [
    "## Finalmente, isolamos os dados desejados e criamos os gráficos com a biblioteca matplotlib"
   ]
  },
  {
   "cell_type": "code",
   "execution_count": 123,
   "metadata": {},
   "outputs": [],
   "source": [
    "adm_19 = df_19.loc['adm']\n",
    "desl_19 = df_19.loc['desl']\n",
    "saldo_19 = df_19.loc['saldos']\n",
    "\n",
    "estoque = df_20.loc['estoque']\n",
    "adm_20 = df_20.loc['adm']\n",
    "desl_20 = df_20.loc['desl']\n",
    "saldo_20 = df_20.loc['saldos']\n"
   ]
  },
  {
   "cell_type": "code",
   "execution_count": 130,
   "metadata": {},
   "outputs": [
    {
     "data": {
      "image/png": "[encoded data removed]",
      "text/plain": [
       "<Figure size 720x504 with 1 Axes>"
      ]
     },
     "metadata": {
      "needs_background": "light"
     },
     "output_type": "display_data"
    }
   ],
   "source": [
    "fig, ax = plt.subplots()\n",
    "\n",
    "ax.plot(estoque)\n",
    "\n",
    "ax.set(xlabel='Meses', ylabel='Estoque', title='Estoque de emprego em Curitiba em 2020')\n",
    "\n",
    "ax.grid(color = 'b', alpha = 0.5, linestyle = 'dashed', linewidth = 0.5)\n",
    "\n",
    "#plt.rcParams['figure.figsize'] = (10,7)\n",
    "\n",
    "plt.show()"
   ]
  },
  {
   "cell_type": "code",
   "execution_count": 153,
   "metadata": {},
   "outputs": [
    {
     "data": {
      "image/png": "[encoded data removed]",
      "text/plain": [
       "<Figure size 864x288 with 2 Axes>"
      ]
     },
     "metadata": {
      "needs_background": "light"
     },
     "output_type": "display_data"
    }
   ],
   "source": [
    "fig, axes = plt.subplots(1, 2, figsize = (12, 4))\n",
    "\n",
    "axes[0].plot(adm_19)\n",
    "axes[0].set_title(\"Admissões\")\n",
    "axes[0].grid(color = 'b', alpha = 0.5, linestyle = 'dashed', linewidth = 0.5)\n",
    "\n",
    "axes[1].plot(desl_19, color='r')\n",
    "axes[1].axis('tight')\n",
    "axes[1].set_title(\"Desligamentos\")\n",
    "axes[1].grid(color = 'b', alpha = 0.5, linestyle = 'dashed', linewidth = 0.5)\n",
    "\n",
    "plt.show()"
   ]
  },
  {
   "cell_type": "code",
   "execution_count": 151,
   "metadata": {},
   "outputs": [
    {
     "data": {
      "image/png": "[encoded data removed]",
      "text/plain": [
       "<Figure size 864x288 with 2 Axes>"
      ]
     },
     "metadata": {
      "needs_background": "light"
     },
     "output_type": "display_data"
    }
   ],
   "source": [
    "fig, axes = plt.subplots(1, 2, figsize = (12, 4))\n",
    "\n",
    "axes[0].plot(adm_20)\n",
    "axes[0].set_title(\"Admissões\")\n",
    "axes[0].grid(color = 'b', alpha = 0.5, linestyle = 'dashed', linewidth = 0.5)\n",
    "\n",
    "axes[1].plot(desl_20, color='r')\n",
    "axes[1].axis('tight')\n",
    "axes[1].set_title(\"Desligamentos\")\n",
    "axes[1].grid(color = 'b', alpha = 0.5, linestyle = 'dashed', linewidth = 0.5)\n",
    "\n",
    "plt.show()"
   ]
  },
  {
   "cell_type": "code",
   "execution_count": 150,
   "metadata": {},
   "outputs": [
    {
     "data": {
      "image/png": "[encoded data removed]",
      "text/plain": [
       "<Figure size 576x360 with 1 Axes>"
      ]
     },
     "metadata": {
      "needs_background": "light"
     },
     "output_type": "display_data"
    }
   ],
   "source": [
    "fig, ax = plt.subplots()\n",
    "ax.plot(adm_19, color=\"b\")\n",
    "ax.plot(desl_19, color=\"r\")\n",
    "ax.set_title(\"Admissões x Desligamentos Ctba 2019\")\n",
    "ax.grid(color = 'b', alpha = 0.5, linestyle = 'dashed', linewidth = 0.5)\n",
    "plt.legend(('adm/19', 'desl/19'))\n",
    "#plt.rcParams['figure.figsize'] = (8,5)\n",
    "plt.show();"
   ]
  },
  {
   "cell_type": "code",
   "execution_count": 149,
   "metadata": {},
   "outputs": [
    {
     "data": {
      "image/png": "[encoded data removed]",
      "text/plain": [
       "<Figure size 576x360 with 1 Axes>"
      ]
     },
     "metadata": {
      "needs_background": "light"
     },
     "output_type": "display_data"
    }
   ],
   "source": [
    "fig, ax = plt.subplots()\n",
    "ax.plot(adm_20, color=\"b\")\n",
    "ax.plot(desl_20, color=\"r\")\n",
    "ax.set_title(\"Admissões x Desligamentos Ctba 2020\")\n",
    "ax.grid(color = 'b', alpha = 0.5, linestyle = 'dashed', linewidth = 0.5)\n",
    "plt.legend(('adm/20', 'desl/20'))\n",
    "#plt.rcParams['figure.figsize'] = (8,5)\n",
    "plt.show();"
   ]
  },
  {
   "cell_type": "code",
   "execution_count": null,
   "metadata": {},
   "outputs": [],
   "source": []
  },
  {
   "cell_type": "code",
   "execution_count": 158,
   "metadata": {},
   "outputs": [
    {
     "data": {
      "image/png": "[encoded data removed]",
      "text/plain": [
       "<Figure size 792x504 with 1 Axes>"
      ]
     },
     "metadata": {
      "needs_background": "light"
     },
     "output_type": "display_data"
    }
   ],
   "source": [
    "fig, ax = plt.subplots()\n",
    "ax.bar(saldo_19.index, saldo_19, color='b')\n",
    "#ax.bar(saldo_20.index, saldo_20, color='r')\n",
    "ax.set_title('Saldo de emprego em Ctba')\n",
    "\n",
    "def autolabel(rects):\n",
    "    for rect in rects:\n",
    "        height = rect.get_height()\n",
    "        ax.annotate('{}'.format(height),\n",
    "                    xy=(rect.get_x() + rect.get_width() / 2, height),\n",
    "                    xytext=(0, 4),  \n",
    "                    textcoords=\"offset points\",\n",
    "                    ha='center', va='bottom')\n",
    "        \n",
    "autolabel(ax.bar(saldo_19.index, saldo_19))\n",
    "#autolabel(ax.bar(saldo_20.index, saldo_20))\n",
    "plt.rcParams['figure.figsize'] = (11,7)\n",
    "plt.show()"
   ]
  },
  {
   "cell_type": "code",
   "execution_count": 218,
   "metadata": {},
   "outputs": [
    {
     "data": {
      "image/png": "[encoded data removed]",
      "text/plain": [
       "<Figure size 576x360 with 1 Axes>"
      ]
     },
     "metadata": {
      "needs_background": "light"
     },
     "output_type": "display_data"
    }
   ],
   "source": [
    "grupos = 10\n",
    "fig, ax = plt.subplots()\n",
    "indice = np.arange(grupos)\n",
    "bar_larg = 0.4\n",
    "transp = 0.7\n",
    "#plt.bar(indice, saldo_19, bar_larg, alpha=transp, color='b', label='Saldo 2019')\n",
    "#plt.bar(indice + bar_larg, saldo_20, bar_larg, alpha=transp, color='g', label='Saldo 2020')\n",
    "\n",
    "def autolabel(rects):\n",
    "    for rect in rects:\n",
    "        height = rect.get_height()\n",
    "        ax.annotate('{}'.format(height),\n",
    "                    xy=(rect.get_x() + rect.get_width() / 2, height),\n",
    "                    xytext=(0, 4),  \n",
    "                    textcoords=\"offset points\",\n",
    "                    ha='center', va='bottom')\n",
    "        \n",
    "autolabel(ax.bar(indice, saldo_19, bar_larg, alpha=transp, color='b', label='Saldo 2019'))\n",
    "autolabel(ax.bar(indice + bar_larg, saldo_20, bar_larg, alpha=transp, color='g', label='Saldo 2020'))\n",
    "\n",
    "plt.xlabel('Saldo') \n",
    "plt.ylabel('Meses') \n",
    "plt.title('Saldo de Emprgo em Curitiba entre janeiro e outubro (2019/2020)') \n",
    "plt.xticks(indice + bar_larg, ('jan', 'fev', 'mar', 'abr', 'mai', 'jun', 'jul', 'ago', 'set', 'out')) \n",
    "plt.legend() \n",
    "plt.tight_layout() \n",
    "plt.show()\n"
   ]
  },
  {
   "cell_type": "code",
   "execution_count": 232,
   "metadata": {},
   "outputs": [
    {
     "data": {
      "text/html": [
       "        <script type=\"text/javascript\">\n",
       "        window.PlotlyConfig = {MathJaxConfig: 'local'};\n",
       "        if (window.MathJax) {MathJax.Hub.Config({SVG: {font: \"STIX-Web\"}});}\n",
       "        if (typeof require !== 'undefined') {\n",
       "        require.undef(\"plotly\");\n",
       "        requirejs.config({\n",
       "            paths: {\n",
       "                'plotly': ['https://cdn.plot.ly/plotly-latest.min']\n",
       "            }\n",
       "        });\n",
       "        require(['plotly'], function(Plotly) {\n",
       "            window._Plotly = Plotly;\n",
       "        });\n",
       "        }\n",
       "        </script>\n",
       "        "
      ]
     },
     "metadata": {},
     "output_type": "display_data"
    }
   ],
   "source": [
    "import plotly.graph_objs as go\n",
    "import plotly.offline as py\n",
    "py.init_notebook_mode(connected=True)\n"
   ]
  },
  {
   "cell_type": "code",
   "execution_count": 241,
   "metadata": {},
   "outputs": [
    {
     "data": {
      "application/vnd.plotly.v1+json": {
       "config": {
        "plotlyServerURL": "https://plot.ly"
       },
       "data": [
        {
         "marker": {
          "color": "blue"
         },
         "name": "saldo/19",
         "type": "bar",
         "x": [
          "jan",
          "fev",
          "mar",
          "abr",
          "mai",
          "jun",
          "jul",
          "ago",
          "set",
          "out"
         ],
         "y": [
          3534,
          3597,
          -771,
          3618,
          464,
          1629,
          2684,
          2038,
          1984,
          2559
         ]
        },
        {
         "marker": {
          "color": "green"
         },
         "name": "saldo/20",
         "type": "bar",
         "x": [
          "jan",
          "fev",
          "mar",
          "abr",
          "mai",
          "jun",
          "jul",
          "ago",
          "set",
          "out"
         ],
         "y": [
          5912,
          9147,
          -11041,
          -18359,
          -8088,
          301,
          153,
          3219,
          4006,
          11704
         ]
        }
       ],
       "layout": {
        "template": {
         "data": {
          "bar": [
           {
            "error_x": {
             "color": "#2a3f5f"
            },
            "error_y": {
             "color": "#2a3f5f"
            },
            "marker": {
             "line": {
              "color": "#E5ECF6",
              "width": 0.5
             }
            },
            "type": "bar"
           }
          ],
          "barpolar": [
           {
            "marker": {
             "line": {
              "color": "#E5ECF6",
              "width": 0.5
             }
            },
            "type": "barpolar"
           }
          ],
          "carpet": [
           {
            "aaxis": {
             "endlinecolor": "#2a3f5f",
             "gridcolor": "white",
             "linecolor": "white",
             "minorgridcolor": "white",
             "startlinecolor": "#2a3f5f"
            },
            "baxis": {
             "endlinecolor": "#2a3f5f",
             "gridcolor": "white",
             "linecolor": "white",
             "minorgridcolor": "white",
             "startlinecolor": "#2a3f5f"
            },
            "type": "carpet"
           }
          ],
          "choropleth": [
           {
            "colorbar": {
             "outlinewidth": 0,
             "ticks": ""
            },
            "type": "choropleth"
           }
          ],
          "contour": [
           {
            "colorbar": {
             "outlinewidth": 0,
             "ticks": ""
            },
            "colorscale": [
             [
              0,
              "#0d0887"
             ],
             [
              0.1111111111111111,
              "#46039f"
             ],
             [
              0.2222222222222222,
              "#7201a8"
             ],
             [
              0.3333333333333333,
              "#9c179e"
             ],
             [
              0.4444444444444444,
              "#bd3786"
             ],
             [
              0.5555555555555556,
              "#d8576b"
             ],
             [
              0.6666666666666666,
              "#ed7953"
             ],
             [
              0.7777777777777778,
              "#fb9f3a"
             ],
             [
              0.8888888888888888,
              "#fdca26"
             ],
             [
              1,
              "#f0f921"
             ]
            ],
            "type": "contour"
           }
          ],
          "contourcarpet": [
           {
            "colorbar": {
             "outlinewidth": 0,
             "ticks": ""
            },
            "type": "contourcarpet"
           }
          ],
          "heatmap": [
           {
            "colorbar": {
             "outlinewidth": 0,
             "ticks": ""
            },
            "colorscale": [
             [
              0,
              "#0d0887"
             ],
             [
              0.1111111111111111,
              "#46039f"
             ],
             [
              0.2222222222222222,
              "#7201a8"
             ],
             [
              0.3333333333333333,
              "#9c179e"
             ],
             [
              0.4444444444444444,
              "#bd3786"
             ],
             [
              0.5555555555555556,
              "#d8576b"
             ],
             [
              0.6666666666666666,
              "#ed7953"
             ],
             [
              0.7777777777777778,
              "#fb9f3a"
             ],
             [
              0.8888888888888888,
              "#fdca26"
             ],
             [
              1,
              "#f0f921"
             ]
            ],
            "type": "heatmap"
           }
          ],
          "heatmapgl": [
           {
            "colorbar": {
             "outlinewidth": 0,
             "ticks": ""
            },
            "colorscale": [
             [
              0,
              "#0d0887"
             ],
             [
              0.1111111111111111,
              "#46039f"
             ],
             [
              0.2222222222222222,
              "#7201a8"
             ],
             [
              0.3333333333333333,
              "#9c179e"
             ],
             [
              0.4444444444444444,
              "#bd3786"
             ],
             [
              0.5555555555555556,
              "#d8576b"
             ],
             [
              0.6666666666666666,
              "#ed7953"
             ],
             [
              0.7777777777777778,
              "#fb9f3a"
             ],
             [
              0.8888888888888888,
              "#fdca26"
             ],
             [
              1,
              "#f0f921"
             ]
            ],
            "type": "heatmapgl"
           }
          ],
          "histogram": [
           {
            "marker": {
             "colorbar": {
              "outlinewidth": 0,
              "ticks": ""
             }
            },
            "type": "histogram"
           }
          ],
          "histogram2d": [
           {
            "colorbar": {
             "outlinewidth": 0,
             "ticks": ""
            },
            "colorscale": [
             [
              0,
              "#0d0887"
             ],
             [
              0.1111111111111111,
              "#46039f"
             ],
             [
              0.2222222222222222,
              "#7201a8"
             ],
             [
              0.3333333333333333,
              "#9c179e"
             ],
             [
              0.4444444444444444,
              "#bd3786"
             ],
             [
              0.5555555555555556,
              "#d8576b"
             ],
             [
              0.6666666666666666,
              "#ed7953"
             ],
             [
              0.7777777777777778,
              "#fb9f3a"
             ],
             [
              0.8888888888888888,
              "#fdca26"
             ],
             [
              1,
              "#f0f921"
             ]
            ],
            "type": "histogram2d"
           }
          ],
          "histogram2dcontour": [
           {
            "colorbar": {
             "outlinewidth": 0,
             "ticks": ""
            },
            "colorscale": [
             [
              0,
              "#0d0887"
             ],
             [
              0.1111111111111111,
              "#46039f"
             ],
             [
              0.2222222222222222,
              "#7201a8"
             ],
             [
              0.3333333333333333,
              "#9c179e"
             ],
             [
              0.4444444444444444,
              "#bd3786"
             ],
             [
              0.5555555555555556,
              "#d8576b"
             ],
             [
              0.6666666666666666,
              "#ed7953"
             ],
             [
              0.7777777777777778,
              "#fb9f3a"
             ],
             [
              0.8888888888888888,
              "#fdca26"
             ],
             [
              1,
              "#f0f921"
             ]
            ],
            "type": "histogram2dcontour"
           }
          ],
          "mesh3d": [
           {
            "colorbar": {
             "outlinewidth": 0,
             "ticks": ""
            },
            "type": "mesh3d"
           }
          ],
          "parcoords": [
           {
            "line": {
             "colorbar": {
              "outlinewidth": 0,
              "ticks": ""
             }
            },
            "type": "parcoords"
           }
          ],
          "pie": [
           {
            "automargin": true,
            "type": "pie"
           }
          ],
          "scatter": [
           {
            "marker": {
             "colorbar": {
              "outlinewidth": 0,
              "ticks": ""
             }
            },
            "type": "scatter"
           }
          ],
          "scatter3d": [
           {
            "line": {
             "colorbar": {
              "outlinewidth": 0,
              "ticks": ""
             }
            },
            "marker": {
             "colorbar": {
              "outlinewidth": 0,
              "ticks": ""
             }
            },
            "type": "scatter3d"
           }
          ],
          "scattercarpet": [
           {
            "marker": {
             "colorbar": {
              "outlinewidth": 0,
              "ticks": ""
             }
            },
            "type": "scattercarpet"
           }
          ],
          "scattergeo": [
           {
            "marker": {
             "colorbar": {
              "outlinewidth": 0,
              "ticks": ""
             }
            },
            "type": "scattergeo"
           }
          ],
          "scattergl": [
           {
            "marker": {
             "colorbar": {
              "outlinewidth": 0,
              "ticks": ""
             }
            },
            "type": "scattergl"
           }
          ],
          "scattermapbox": [
           {
            "marker": {
             "colorbar": {
              "outlinewidth": 0,
              "ticks": ""
             }
            },
            "type": "scattermapbox"
           }
          ],
          "scatterpolar": [
           {
            "marker": {
             "colorbar": {
              "outlinewidth": 0,
              "ticks": ""
             }
            },
            "type": "scatterpolar"
           }
          ],
          "scatterpolargl": [
           {
            "marker": {
             "colorbar": {
              "outlinewidth": 0,
              "ticks": ""
             }
            },
            "type": "scatterpolargl"
           }
          ],
          "scatterternary": [
           {
            "marker": {
             "colorbar": {
              "outlinewidth": 0,
              "ticks": ""
             }
            },
            "type": "scatterternary"
           }
          ],
          "surface": [
           {
            "colorbar": {
             "outlinewidth": 0,
             "ticks": ""
            },
            "colorscale": [
             [
              0,
              "#0d0887"
             ],
             [
              0.1111111111111111,
              "#46039f"
             ],
             [
              0.2222222222222222,
              "#7201a8"
             ],
             [
              0.3333333333333333,
              "#9c179e"
             ],
             [
              0.4444444444444444,
              "#bd3786"
             ],
             [
              0.5555555555555556,
              "#d8576b"
             ],
             [
              0.6666666666666666,
              "#ed7953"
             ],
             [
              0.7777777777777778,
              "#fb9f3a"
             ],
             [
              0.8888888888888888,
              "#fdca26"
             ],
             [
              1,
              "#f0f921"
             ]
            ],
            "type": "surface"
           }
          ],
          "table": [
           {
            "cells": {
             "fill": {
              "color": "#EBF0F8"
             },
             "line": {
              "color": "white"
             }
            },
            "header": {
             "fill": {
              "color": "#C8D4E3"
             },
             "line": {
              "color": "white"
             }
            },
            "type": "table"
           }
          ]
         },
         "layout": {
          "annotationdefaults": {
           "arrowcolor": "#2a3f5f",
           "arrowhead": 0,
           "arrowwidth": 1
          },
          "coloraxis": {
           "colorbar": {
            "outlinewidth": 0,
            "ticks": ""
           }
          },
          "colorscale": {
           "diverging": [
            [
             0,
             "#8e0152"
            ],
            [
             0.1,
             "#c51b7d"
            ],
            [
             0.2,
             "#de77ae"
            ],
            [
             0.3,
             "#f1b6da"
            ],
            [
             0.4,
             "#fde0ef"
            ],
            [
             0.5,
             "#f7f7f7"
            ],
            [
             0.6,
             "#e6f5d0"
            ],
            [
             0.7,
             "#b8e186"
            ],
            [
             0.8,
             "#7fbc41"
            ],
            [
             0.9,
             "#4d9221"
            ],
            [
             1,
             "#276419"
            ]
           ],
           "sequential": [
            [
             0,
             "#0d0887"
            ],
            [
             0.1111111111111111,
             "#46039f"
            ],
            [
             0.2222222222222222,
             "#7201a8"
            ],
            [
             0.3333333333333333,
             "#9c179e"
            ],
            [
             0.4444444444444444,
             "#bd3786"
            ],
            [
             0.5555555555555556,
             "#d8576b"
            ],
            [
             0.6666666666666666,
             "#ed7953"
            ],
            [
             0.7777777777777778,
             "#fb9f3a"
            ],
            [
             0.8888888888888888,
             "#fdca26"
            ],
            [
             1,
             "#f0f921"
            ]
           ],
           "sequentialminus": [
            [
             0,
             "#0d0887"
            ],
            [
             0.1111111111111111,
             "#46039f"
            ],
            [
             0.2222222222222222,
             "#7201a8"
            ],
            [
             0.3333333333333333,
             "#9c179e"
            ],
            [
             0.4444444444444444,
             "#bd3786"
            ],
            [
             0.5555555555555556,
             "#d8576b"
            ],
            [
             0.6666666666666666,
             "#ed7953"
            ],
            [
             0.7777777777777778,
             "#fb9f3a"
            ],
            [
             0.8888888888888888,
             "#fdca26"
            ],
            [
             1,
             "#f0f921"
            ]
           ]
          },
          "colorway": [
           "#636efa",
           "#EF553B",
           "#00cc96",
           "#ab63fa",
           "#FFA15A",
           "#19d3f3",
           "#FF6692",
           "#B6E880",
           "#FF97FF",
           "#FECB52"
          ],
          "font": {
           "color": "#2a3f5f"
          },
          "geo": {
           "bgcolor": "white",
           "lakecolor": "white",
           "landcolor": "#E5ECF6",
           "showlakes": true,
           "showland": true,
           "subunitcolor": "white"
          },
          "hoverlabel": {
           "align": "left"
          },
          "hovermode": "closest",
          "mapbox": {
           "style": "light"
          },
          "paper_bgcolor": "white",
          "plot_bgcolor": "#E5ECF6",
          "polar": {
           "angularaxis": {
            "gridcolor": "white",
            "linecolor": "white",
            "ticks": ""
           },
           "bgcolor": "#E5ECF6",
           "radialaxis": {
            "gridcolor": "white",
            "linecolor": "white",
            "ticks": ""
           }
          },
          "scene": {
           "xaxis": {
            "backgroundcolor": "#E5ECF6",
            "gridcolor": "white",
            "gridwidth": 2,
            "linecolor": "white",
            "showbackground": true,
            "ticks": "",
            "zerolinecolor": "white"
           },
           "yaxis": {
            "backgroundcolor": "#E5ECF6",
            "gridcolor": "white",
            "gridwidth": 2,
            "linecolor": "white",
            "showbackground": true,
            "ticks": "",
            "zerolinecolor": "white"
           },
           "zaxis": {
            "backgroundcolor": "#E5ECF6",
            "gridcolor": "white",
            "gridwidth": 2,
            "linecolor": "white",
            "showbackground": true,
            "ticks": "",
            "zerolinecolor": "white"
           }
          },
          "shapedefaults": {
           "line": {
            "color": "#2a3f5f"
           }
          },
          "ternary": {
           "aaxis": {
            "gridcolor": "white",
            "linecolor": "white",
            "ticks": ""
           },
           "baxis": {
            "gridcolor": "white",
            "linecolor": "white",
            "ticks": ""
           },
           "bgcolor": "#E5ECF6",
           "caxis": {
            "gridcolor": "white",
            "linecolor": "white",
            "ticks": ""
           }
          },
          "title": {
           "x": 0.05
          },
          "xaxis": {
           "automargin": true,
           "gridcolor": "white",
           "linecolor": "white",
           "ticks": "",
           "title": {
            "standoff": 15
           },
           "zerolinecolor": "white",
           "zerolinewidth": 2
          },
          "yaxis": {
           "automargin": true,
           "gridcolor": "white",
           "linecolor": "white",
           "ticks": "",
           "title": {
            "standoff": 15
           },
           "zerolinecolor": "white",
           "zerolinewidth": 2
          }
         }
        },
        "title": {
         "text": "Saldo de Emprgo em Curitiba entre janeiro e outubro (2019/2020)"
        }
       }
      },
      "text/html": [
       "<div>                            <div id=\"c39fe970-4846-479b-adb8-3c1b98372987\" class=\"plotly-graph-div\" style=\"height:525px; width:100%;\"></div>            <script type=\"text/javascript\">                require([\"plotly\"], function(Plotly) {                    window.PLOTLYENV=window.PLOTLYENV || {};                                    if (document.getElementById(\"c39fe970-4846-479b-adb8-3c1b98372987\")) {                    Plotly.newPlot(                        \"c39fe970-4846-479b-adb8-3c1b98372987\",                        [{\"marker\": {\"color\": \"blue\"}, \"name\": \"saldo/19\", \"type\": \"bar\", \"x\": [\"jan\", \"fev\", \"mar\", \"abr\", \"mai\", \"jun\", \"jul\", \"ago\", \"set\", \"out\"], \"y\": [3534, 3597, -771, 3618, 464, 1629, 2684, 2038, 1984, 2559]}, {\"marker\": {\"color\": \"green\"}, \"name\": \"saldo/20\", \"type\": \"bar\", \"x\": [\"jan\", \"fev\", \"mar\", \"abr\", \"mai\", \"jun\", \"jul\", \"ago\", \"set\", \"out\"], \"y\": [5912, 9147, -11041, -18359, -8088, 301, 153, 3219, 4006, 11704]}],                        {\"template\": {\"data\": {\"bar\": [{\"error_x\": {\"color\": \"#2a3f5f\"}, \"error_y\": {\"color\": \"#2a3f5f\"}, \"marker\": {\"line\": {\"color\": \"#E5ECF6\", \"width\": 0.5}}, \"type\": \"bar\"}], \"barpolar\": [{\"marker\": {\"line\": {\"color\": \"#E5ECF6\", \"width\": 0.5}}, \"type\": \"barpolar\"}], \"carpet\": [{\"aaxis\": {\"endlinecolor\": \"#2a3f5f\", \"gridcolor\": \"white\", \"linecolor\": \"white\", \"minorgridcolor\": \"white\", \"startlinecolor\": \"#2a3f5f\"}, \"baxis\": {\"endlinecolor\": \"#2a3f5f\", \"gridcolor\": \"white\", \"linecolor\": \"white\", \"minorgridcolor\": \"white\", \"startlinecolor\": \"#2a3f5f\"}, \"type\": \"carpet\"}], \"choropleth\": [{\"colorbar\": {\"outlinewidth\": 0, \"ticks\": \"\"}, \"type\": \"choropleth\"}], \"contour\": [{\"colorbar\": {\"outlinewidth\": 0, \"ticks\": \"\"}, \"colorscale\": [[0.0, \"#0d0887\"], [0.1111111111111111, \"#46039f\"], [0.2222222222222222, \"#7201a8\"], [0.3333333333333333, \"#9c179e\"], [0.4444444444444444, \"#bd3786\"], [0.5555555555555556, \"#d8576b\"], [0.6666666666666666, \"#ed7953\"], [0.7777777777777778, \"#fb9f3a\"], [0.8888888888888888, \"#fdca26\"], [1.0, \"#f0f921\"]], \"type\": \"contour\"}], \"contourcarpet\": [{\"colorbar\": {\"outlinewidth\": 0, \"ticks\": \"\"}, \"type\": \"contourcarpet\"}], \"heatmap\": [{\"colorbar\": {\"outlinewidth\": 0, \"ticks\": \"\"}, \"colorscale\": [[0.0, \"#0d0887\"], [0.1111111111111111, \"#46039f\"], [0.2222222222222222, \"#7201a8\"], [0.3333333333333333, \"#9c179e\"], [0.4444444444444444, \"#bd3786\"], [0.5555555555555556, \"#d8576b\"], [0.6666666666666666, \"#ed7953\"], [0.7777777777777778, \"#fb9f3a\"], [0.8888888888888888, \"#fdca26\"], [1.0, \"#f0f921\"]], \"type\": \"heatmap\"}], \"heatmapgl\": [{\"colorbar\": {\"outlinewidth\": 0, \"ticks\": \"\"}, \"colorscale\": [[0.0, \"#0d0887\"], [0.1111111111111111, \"#46039f\"], [0.2222222222222222, \"#7201a8\"], [0.3333333333333333, \"#9c179e\"], [0.4444444444444444, \"#bd3786\"], [0.5555555555555556, \"#d8576b\"], [0.6666666666666666, \"#ed7953\"], [0.7777777777777778, \"#fb9f3a\"], [0.8888888888888888, \"#fdca26\"], [1.0, \"#f0f921\"]], \"type\": \"heatmapgl\"}], \"histogram\": [{\"marker\": {\"colorbar\": {\"outlinewidth\": 0, \"ticks\": \"\"}}, \"type\": \"histogram\"}], \"histogram2d\": [{\"colorbar\": {\"outlinewidth\": 0, \"ticks\": \"\"}, \"colorscale\": [[0.0, \"#0d0887\"], [0.1111111111111111, \"#46039f\"], [0.2222222222222222, \"#7201a8\"], [0.3333333333333333, \"#9c179e\"], [0.4444444444444444, \"#bd3786\"], [0.5555555555555556, \"#d8576b\"], [0.6666666666666666, \"#ed7953\"], [0.7777777777777778, \"#fb9f3a\"], [0.8888888888888888, \"#fdca26\"], [1.0, \"#f0f921\"]], \"type\": \"histogram2d\"}], \"histogram2dcontour\": [{\"colorbar\": {\"outlinewidth\": 0, \"ticks\": \"\"}, \"colorscale\": [[0.0, \"#0d0887\"], [0.1111111111111111, \"#46039f\"], [0.2222222222222222, \"#7201a8\"], [0.3333333333333333, \"#9c179e\"], [0.4444444444444444, \"#bd3786\"], [0.5555555555555556, \"#d8576b\"], [0.6666666666666666, \"#ed7953\"], [0.7777777777777778, \"#fb9f3a\"], [0.8888888888888888, \"#fdca26\"], [1.0, \"#f0f921\"]], \"type\": \"histogram2dcontour\"}], \"mesh3d\": [{\"colorbar\": {\"outlinewidth\": 0, \"ticks\": \"\"}, \"type\": \"mesh3d\"}], \"parcoords\": [{\"line\": {\"colorbar\": {\"outlinewidth\": 0, \"ticks\": \"\"}}, \"type\": \"parcoords\"}], \"pie\": [{\"automargin\": true, \"type\": \"pie\"}], \"scatter\": [{\"marker\": {\"colorbar\": {\"outlinewidth\": 0, \"ticks\": \"\"}}, \"type\": \"scatter\"}], \"scatter3d\": [{\"line\": {\"colorbar\": {\"outlinewidth\": 0, \"ticks\": \"\"}}, \"marker\": {\"colorbar\": {\"outlinewidth\": 0, \"ticks\": \"\"}}, \"type\": \"scatter3d\"}], \"scattercarpet\": [{\"marker\": {\"colorbar\": {\"outlinewidth\": 0, \"ticks\": \"\"}}, \"type\": \"scattercarpet\"}], \"scattergeo\": [{\"marker\": {\"colorbar\": {\"outlinewidth\": 0, \"ticks\": \"\"}}, \"type\": \"scattergeo\"}], \"scattergl\": [{\"marker\": {\"colorbar\": {\"outlinewidth\": 0, \"ticks\": \"\"}}, \"type\": \"scattergl\"}], \"scattermapbox\": [{\"marker\": {\"colorbar\": {\"outlinewidth\": 0, \"ticks\": \"\"}}, \"type\": \"scattermapbox\"}], \"scatterpolar\": [{\"marker\": {\"colorbar\": {\"outlinewidth\": 0, \"ticks\": \"\"}}, \"type\": \"scatterpolar\"}], \"scatterpolargl\": [{\"marker\": {\"colorbar\": {\"outlinewidth\": 0, \"ticks\": \"\"}}, \"type\": \"scatterpolargl\"}], \"scatterternary\": [{\"marker\": {\"colorbar\": {\"outlinewidth\": 0, \"ticks\": \"\"}}, \"type\": \"scatterternary\"}], \"surface\": [{\"colorbar\": {\"outlinewidth\": 0, \"ticks\": \"\"}, \"colorscale\": [[0.0, \"#0d0887\"], [0.1111111111111111, \"#46039f\"], [0.2222222222222222, \"#7201a8\"], [0.3333333333333333, \"#9c179e\"], [0.4444444444444444, \"#bd3786\"], [0.5555555555555556, \"#d8576b\"], [0.6666666666666666, \"#ed7953\"], [0.7777777777777778, \"#fb9f3a\"], [0.8888888888888888, \"#fdca26\"], [1.0, \"#f0f921\"]], \"type\": \"surface\"}], \"table\": [{\"cells\": {\"fill\": {\"color\": \"#EBF0F8\"}, \"line\": {\"color\": \"white\"}}, \"header\": {\"fill\": {\"color\": \"#C8D4E3\"}, \"line\": {\"color\": \"white\"}}, \"type\": \"table\"}]}, \"layout\": {\"annotationdefaults\": {\"arrowcolor\": \"#2a3f5f\", \"arrowhead\": 0, \"arrowwidth\": 1}, \"coloraxis\": {\"colorbar\": {\"outlinewidth\": 0, \"ticks\": \"\"}}, \"colorscale\": {\"diverging\": [[0, \"#8e0152\"], [0.1, \"#c51b7d\"], [0.2, \"#de77ae\"], [0.3, \"#f1b6da\"], [0.4, \"#fde0ef\"], [0.5, \"#f7f7f7\"], [0.6, \"#e6f5d0\"], [0.7, \"#b8e186\"], [0.8, \"#7fbc41\"], [0.9, \"#4d9221\"], [1, \"#276419\"]], \"sequential\": [[0.0, \"#0d0887\"], [0.1111111111111111, \"#46039f\"], [0.2222222222222222, \"#7201a8\"], [0.3333333333333333, \"#9c179e\"], [0.4444444444444444, \"#bd3786\"], [0.5555555555555556, \"#d8576b\"], [0.6666666666666666, \"#ed7953\"], [0.7777777777777778, \"#fb9f3a\"], [0.8888888888888888, \"#fdca26\"], [1.0, \"#f0f921\"]], \"sequentialminus\": [[0.0, \"#0d0887\"], [0.1111111111111111, \"#46039f\"], [0.2222222222222222, \"#7201a8\"], [0.3333333333333333, \"#9c179e\"], [0.4444444444444444, \"#bd3786\"], [0.5555555555555556, \"#d8576b\"], [0.6666666666666666, \"#ed7953\"], [0.7777777777777778, \"#fb9f3a\"], [0.8888888888888888, \"#fdca26\"], [1.0, \"#f0f921\"]]}, \"colorway\": [\"#636efa\", \"#EF553B\", \"#00cc96\", \"#ab63fa\", \"#FFA15A\", \"#19d3f3\", \"#FF6692\", \"#B6E880\", \"#FF97FF\", \"#FECB52\"], \"font\": {\"color\": \"#2a3f5f\"}, \"geo\": {\"bgcolor\": \"white\", \"lakecolor\": \"white\", \"landcolor\": \"#E5ECF6\", \"showlakes\": true, \"showland\": true, \"subunitcolor\": \"white\"}, \"hoverlabel\": {\"align\": \"left\"}, \"hovermode\": \"closest\", \"mapbox\": {\"style\": \"light\"}, \"paper_bgcolor\": \"white\", \"plot_bgcolor\": \"#E5ECF6\", \"polar\": {\"angularaxis\": {\"gridcolor\": \"white\", \"linecolor\": \"white\", \"ticks\": \"\"}, \"bgcolor\": \"#E5ECF6\", \"radialaxis\": {\"gridcolor\": \"white\", \"linecolor\": \"white\", \"ticks\": \"\"}}, \"scene\": {\"xaxis\": {\"backgroundcolor\": \"#E5ECF6\", \"gridcolor\": \"white\", \"gridwidth\": 2, \"linecolor\": \"white\", \"showbackground\": true, \"ticks\": \"\", \"zerolinecolor\": \"white\"}, \"yaxis\": {\"backgroundcolor\": \"#E5ECF6\", \"gridcolor\": \"white\", \"gridwidth\": 2, \"linecolor\": \"white\", \"showbackground\": true, \"ticks\": \"\", \"zerolinecolor\": \"white\"}, \"zaxis\": {\"backgroundcolor\": \"#E5ECF6\", \"gridcolor\": \"white\", \"gridwidth\": 2, \"linecolor\": \"white\", \"showbackground\": true, \"ticks\": \"\", \"zerolinecolor\": \"white\"}}, \"shapedefaults\": {\"line\": {\"color\": \"#2a3f5f\"}}, \"ternary\": {\"aaxis\": {\"gridcolor\": \"white\", \"linecolor\": \"white\", \"ticks\": \"\"}, \"baxis\": {\"gridcolor\": \"white\", \"linecolor\": \"white\", \"ticks\": \"\"}, \"bgcolor\": \"#E5ECF6\", \"caxis\": {\"gridcolor\": \"white\", \"linecolor\": \"white\", \"ticks\": \"\"}}, \"title\": {\"x\": 0.05}, \"xaxis\": {\"automargin\": true, \"gridcolor\": \"white\", \"linecolor\": \"white\", \"ticks\": \"\", \"title\": {\"standoff\": 15}, \"zerolinecolor\": \"white\", \"zerolinewidth\": 2}, \"yaxis\": {\"automargin\": true, \"gridcolor\": \"white\", \"linecolor\": \"white\", \"ticks\": \"\", \"title\": {\"standoff\": 15}, \"zerolinecolor\": \"white\", \"zerolinewidth\": 2}}}, \"title\": {\"text\": \"Saldo de Emprgo em Curitiba entre janeiro e outubro (2019/2020)\"}},                        {\"responsive\": true}                    ).then(function(){\n",
       "                            \n",
       "var gd = document.getElementById('c39fe970-4846-479b-adb8-3c1b98372987');\n",
       "var x = new MutationObserver(function (mutations, observer) {{\n",
       "        var display = window.getComputedStyle(gd).display;\n",
       "        if (!display || display === 'none') {{\n",
       "            console.log([gd, 'removed!']);\n",
       "            Plotly.purge(gd);\n",
       "            observer.disconnect();\n",
       "        }}\n",
       "}});\n",
       "\n",
       "// Listen for the removal of the full notebook cells\n",
       "var notebookContainer = gd.closest('#notebook-container');\n",
       "if (notebookContainer) {{\n",
       "    x.observe(notebookContainer, {childList: true});\n",
       "}}\n",
       "\n",
       "// Listen for the clearing of the current output cell\n",
       "var outputEl = gd.closest('.output');\n",
       "if (outputEl) {{\n",
       "    x.observe(outputEl, {childList: true});\n",
       "}}\n",
       "\n",
       "                        })                };                });            </script>        </div>"
      ]
     },
     "metadata": {},
     "output_type": "display_data"
    }
   ],
   "source": [
    "fig = go.Figure(\n",
    "   data=[\n",
    "       go.Bar(\n",
    "           x=saldo_19.index,\n",
    "           y=saldo_19,\n",
    "           name='saldo/19',\n",
    "           marker=dict(color='blue')\n",
    "       ),\n",
    "       go.Bar(\n",
    "           x=saldo_20.index,\n",
    "           y=saldo_20,\n",
    "           name='saldo/20',\n",
    "           marker=dict(color='green')\n",
    "       ),\n",
    "   ],\n",
    "   layout=go.Layout(\n",
    "       title='Saldo de Emprgo em Curitiba entre janeiro e outubro (2019/2020)'\n",
    "   )\n",
    ")\n",
    "fig.show()"
   ]
  },
  {
   "cell_type": "code",
   "execution_count": null,
   "metadata": {},
   "outputs": [],
   "source": []
  }
 ],
 "metadata": {
  "kernelspec": {
   "display_name": "Python 3",
   "language": "python",
   "name": "python3"
  },
  "language_info": {
   "codemirror_mode": {
    "name": "ipython",
    "version": 3
   },
   "file_extension": ".py",
   "mimetype": "text/x-python",
   "name": "python",
   "nbconvert_exporter": "python",
   "pygments_lexer": "ipython3",
   "version": "3.8.3"
  }
 },
 "nbformat": 4,
 "nbformat_minor": 4
}
