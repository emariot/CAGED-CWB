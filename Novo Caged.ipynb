{
 "cells": [
  {
   "cell_type": "code",
   "execution_count": 1,
   "metadata": {},
   "outputs": [],
   "source": [
    "import string\n",
    "import pandas as pd\n",
    "pd.set_option('mode.chained_assignment', None)"
   ]
  },
  {
   "cell_type": "code",
   "execution_count": 4,
   "metadata": {},
   "outputs": [],
   "source": [
    "cols =[\n",
    "    'município', \n",
    "    'seção',\n",
    "    'categoria',\n",
    "    'graudeinstrução',\n",
    "    'sexo',\n",
    "    'tipomovimentação',\n",
    "    'raçacor',\n",
    "]\n",
    "newcols=[\n",
    "    'municipio',\n",
    "    'secao',\n",
    "    'categoria',\n",
    "    'instrucao',\n",
    "    'genero',\n",
    "    'tipo',\n",
    "    'raca'\n",
    "]\n",
    "a = list(string.ascii_uppercase)\n",
    "genero = ['M','F','N/I']\n",
    "secao = [\n",
    "    'Agricultura/Pecuária',\n",
    "    'Ind. Extrativas',\n",
    "    'Ind. Transformação',\n",
    "    'Eletricidade/Gás',\n",
    "    'Água/Esgoto',\n",
    "    'Construção',\n",
    "    'Comércio',\n",
    "    'Transporte',\n",
    "    'Alimentação',\n",
    "    'Informação',\n",
    "    'Financeiros',\n",
    "    'Imobiliárias',\n",
    "    'Profissionais',\n",
    "    'Administrativas',\n",
    "    'Adm Pública',\n",
    "    'Educação',\n",
    "    'Saúde',\n",
    "    'Artes/Cultura',\n",
    "    'Outros Serviços',\n",
    "    'Domésticos',\n",
    "    'Org. Internacionais',\n",
    "    'Não Identificados',\n",
    "]"
   ]
  },
  {
   "cell_type": "code",
   "execution_count": 53,
   "metadata": {},
   "outputs": [],
   "source": [
    "jan = pd.read_csv('datasets/2020/CAGEDMOV202001.txt', sep=';', usecols=cols)\n",
    "fev = pd.read_csv('datasets/2020/CAGEDMOV202002.txt', sep=';', usecols=cols)\n",
    "mar = pd.read_csv('datasets/2020/CAGEDMOV202003.txt', sep=';', usecols=cols)\n",
    "abr = pd.read_csv('datasets/2020/CAGEDMOV202004.txt', sep=';', usecols=cols)\n",
    "mai = pd.read_csv('datasets/2020/CAGEDMOV202005.txt', sep=';', usecols=cols)\n",
    "jun = pd.read_csv('datasets/2020/CAGEDMOV202006.txt', sep=';', usecols=cols)\n",
    "jul = pd.read_csv('datasets/2020/CAGEDMOV202007.txt', sep=';', usecols=cols)\n",
    "ago = pd.read_csv('datasets/2020/CAGEDMOV202008.txt', sep=';', usecols=cols)\n",
    "set_ = pd.read_csv('datasets/2020/CAGEDMOV202009.txt', sep=';', usecols=cols)\n",
    "out = pd.read_csv('datasets/2020/CAGEDMOV202010.txt', sep=';', usecols=cols)\n",
    "nov = pd.read_csv('datasets/2020/CAGEDMOV202011.txt', sep=';', usecols=cols)"
   ]
  },
  {
   "cell_type": "code",
   "execution_count": 69,
   "metadata": {},
   "outputs": [],
   "source": [
    "data = [jan, fev, mar, abr, mai, jun, jul, ago, set_, out, nov]\n",
    "def rename(df):\n",
    "    for i in range(len(df)):\n",
    "    \n",
    "        df[i].rename(columns=dict(zip(cols, newcols)), inplace=True)\n",
    "        df[i] = df[i].loc[data[i]['municipio']==410690]\n",
    "        \n",
    "        df[i].loc[df[i]['genero']==1,'genero'] = 'M'\n",
    "        df[i].loc[df[i]['genero']==3,'genero'] = 'F'\n",
    "        df[i].loc[df[i]['genero']==9,'genero'] = 'N/I'\n",
    "        \n",
    "        df[i].loc[df[i]['secao']=='A','secao'] = 'Agricultura/Pecuária'\n",
    "        df[i].loc[df[i]['secao']=='B','secao'] = 'Ind. Extrativas'\n",
    "        df[i].loc[df[i]['secao']=='C','secao'] = 'Ind. Transformação'\n",
    "        df[i].loc[df[i]['secao']=='D','secao'] = 'Eletricidade/Gás'\n",
    "        df[i].loc[df[i]['secao']=='E','secao'] = 'Água/Esgoto'\n",
    "        df[i].loc[df[i]['secao']=='F','secao'] = 'Construção'\n",
    "        df[i].loc[df[i]['secao']=='G','secao'] = 'Comércio'\n",
    "        df[i].loc[df[i]['secao']=='H','secao'] = 'Transporte'\n",
    "        df[i].loc[df[i]['secao']=='I','secao'] = 'Alimentação'\n",
    "        df[i].loc[df[i]['secao']=='J','secao'] = 'Informação'\n",
    "        df[i].loc[df[i]['secao']=='K','secao'] = 'Financeiros'\n",
    "        df[i].loc[df[i]['secao']=='L','secao'] = 'Imobiliárias'\n",
    "        df[i].loc[df[i]['secao']=='M','secao'] = 'Profissionais'\n",
    "        df[i].loc[df[i]['secao']=='N','secao'] = 'Administrativas'\n",
    "        df[i].loc[df[i]['secao']=='O','secao'] = 'Adm Pública'\n",
    "        df[i].loc[df[i]['secao']=='P','secao'] = 'Educação'\n",
    "        df[i].loc[df[i]['secao']=='Q','secao'] = 'Saúde'\n",
    "        df[i].loc[df[i]['secao']=='R','secao'] = 'Artes/Cultura'\n",
    "        df[i].loc[df[i]['secao']=='S','secao'] = 'Outros Serviços'\n",
    "        df[i].loc[df[i]['secao']=='T','secao'] = 'Domésticos'\n",
    "        df[i].loc[df[i]['secao']=='U','secao'] = 'Org. Internacionais'\n",
    "        df[i].loc[df[i]['secao']=='Z','secao'] = 'Não Identificados'\n",
    "        \n",
    "        df[i].loc[df[i]['categoria']==101,'categoria'] = 'CLT'\n",
    "        df[i].loc[df[i]['categoria']==102,'categoria'] = 'Trab. Rural'\n",
    "        df[i].loc[df[i]['categoria']==103,'categoria'] = 'Aprendiz'\n",
    "        df[i].loc[df[i]['categoria']==104,'categoria'] = 'Doméstico'\n",
    "        df[i].loc[df[i]['categoria']==105,'categoria'] = 'Contrato a Termo'\n",
    "        df[i].loc[df[i]['categoria']==106,'categoria'] = 'Temporário'\n",
    "        df[i].loc[df[i]['categoria']==107,'categoria'] = 'VA/Sem acordo'\n",
    "        df[i].loc[df[i]['categoria']==108,'categoria'] = 'VA/Com acordo'\n",
    "        df[i].loc[df[i]['categoria']==111,'categoria'] = 'Intermitente'\n",
    "        df[i].loc[df[i]['categoria']==999,'categoria'] = 'Não Identificado'\n",
    "        \n",
    "        df[i].loc[df[i]['instrucao']==1,'instrucao'] = 'Analfabeto'\n",
    "        df[i].loc[df[i]['instrucao']==2,'instrucao'] = '5º Incompleto'\n",
    "        df[i].loc[df[i]['instrucao']==3,'instrucao'] = '5º Fundamental'\n",
    "        df[i].loc[df[i]['instrucao']==4,'instrucao'] = '6º a 9º Fundamental'\n",
    "        df[i].loc[df[i]['instrucao']==5,'instrucao'] = 'Fundamental Completo'\n",
    "        df[i].loc[df[i]['instrucao']==6,'instrucao'] = 'Médio Incompleto'\n",
    "        df[i].loc[df[i]['instrucao']==7,'instrucao'] = 'Médio Completo'\n",
    "        df[i].loc[df[i]['instrucao']==8,'instrucao'] = 'Superior Incompleto'\n",
    "        df[i].loc[df[i]['instrucao']==9,'instrucao'] = 'Superior Completo'\n",
    "        df[i].loc[df[i]['instrucao']==10,'instrucao'] = 'Mestrado'\n",
    "        df[i].loc[df[i]['instrucao']==11,'instrucao'] = 'Doutorado'\n",
    "        df[i].loc[df[i]['instrucao']==80,'instrucao'] = 'Pós Graduação Completa'\n",
    "        df[i].loc[df[i]['instrucao']==99,'instrucao'] = 'Não Identificado'\n",
    "        \n",
    "        df[i].loc[df[i]['raca']==1,'raca'] = 'Branca'\n",
    "        df[i].loc[df[i]['raca']==2,'raca'] = 'Preta'\n",
    "        df[i].loc[df[i]['raca']==3,'raca'] = 'Parda'\n",
    "        df[i].loc[df[i]['raca']==4,'raca'] = 'Amarela'\n",
    "        df[i].loc[df[i]['raca']==5,'raca'] = 'Indígena'\n",
    "        df[i].loc[df[i]['raca']==6,'raca'] = 'Não Informada'\n",
    "        df[i].loc[df[i]['raca']==9,'raca'] = 'Não Identificado'\n",
    "        \n",
    "        df[i].loc[data[i]['tipo'] == 10, 'descricao'] = 'ADM/Primeiro Emprego'\n",
    "        df[i].loc[data[i]['tipo'] == 20, 'descricao'] = 'ADM/Reemprego'\n",
    "        df[i].loc[data[i]['tipo'] == 25, 'descricao'] = 'ADM/Prazo Determinado'\n",
    "        df[i].loc[data[i]['tipo'] == 31, 'descricao'] = 'DES/Sem Justa Causa'\n",
    "        df[i].loc[data[i]['tipo'] == 32, 'descricao'] = 'DES/Justa Causa'\n",
    "        df[i].loc[data[i]['tipo'] == 33, 'descricao'] = 'DES/Culpa Recíproca'\n",
    "        df[i].loc[data[i]['tipo'] == 35, 'descricao'] = 'ADM/Reintegração'\n",
    "        df[i].loc[data[i]['tipo'] == 40, 'descricao'] = 'DES/A pedido'\n",
    "        df[i].loc[data[i]['tipo'] == 43, 'descricao'] = 'DES/Término de Contrato Determinado'\n",
    "        df[i].loc[data[i]['tipo'] == 45, 'descricao'] = 'DES/Término de Contrato'\n",
    "        df[i].loc[data[i]['tipo'] == 50, 'descricao'] = 'DES/Aposentadoria'\n",
    "        df[i].loc[data[i]['tipo'] == 60, 'descricao'] = 'DES/Morte'\n",
    "        df[i].loc[data[i]['tipo'] == 70, 'descricao'] = 'ADM/Transferência'\n",
    "        df[i].loc[data[i]['tipo'] == 80, 'descricao'] = 'DES/Transferência'\n",
    "        df[i].loc[data[i]['tipo'] == 90, 'descricao'] = 'DES/Acordo'\n",
    "        df[i].loc[data[i]['tipo'] == 98, 'descricao'] = 'DES/Tipo Ignorado'\n",
    "        df[i].loc[data[i]['tipo'] == 99, 'descricao'] = 'DES/Não Identificado'"
   ]
  },
  {
   "cell_type": "code",
   "execution_count": 70,
   "metadata": {},
   "outputs": [],
   "source": [
    "rename(data)"
   ]
  },
  {
   "cell_type": "markdown",
   "metadata": {},
   "source": [
    "# Incoerência nos microdados publicados quando comparados com a tabela:\n",
    "* Em Janeiro verificamos que a série sem ajustes (58584) está como no dataset, sendo que com ajuste seria (63289)\n",
    "* Em Fevereiro constatamos um número sem ajustes (67073) e com ajustes apresenta (72121) diferente do dataset que apresenta (69169) \n",
    "* Março apresenta os dados sem ajuste (69937) com no dataset, mas com ajuste são (76824)\n",
    "* Os demais dados batem com os dados com ajuste.\n"
   ]
  },
  {
   "cell_type": "markdown",
   "metadata": {},
   "source": [
    "## Dados de Admissões"
   ]
  },
  {
   "cell_type": "code",
   "execution_count": 71,
   "metadata": {},
   "outputs": [
    {
     "data": {
      "text/plain": [
       "(32248, 8)"
      ]
     },
     "execution_count": 71,
     "metadata": {},
     "output_type": "execute_result"
    }
   ],
   "source": [
    "data[0][data[0]['descricao'].str.contains('ADM', regex=False)].shape"
   ]
  },
  {
   "cell_type": "markdown",
   "metadata": {},
   "source": [
    "## Dados de Desligamentos"
   ]
  },
  {
   "cell_type": "code",
   "execution_count": 72,
   "metadata": {},
   "outputs": [
    {
     "data": {
      "text/plain": [
       "(26336, 8)"
      ]
     },
     "execution_count": 72,
     "metadata": {},
     "output_type": "execute_result"
    }
   ],
   "source": [
    "data[0][data[0]['descricao'].str.contains('DES', regex=False)].shape"
   ]
  },
  {
   "cell_type": "code",
   "execution_count": null,
   "metadata": {},
   "outputs": [],
   "source": []
  }
 ],
 "metadata": {
  "kernelspec": {
   "display_name": "Python 3",
   "language": "python",
   "name": "python3"
  },
  "language_info": {
   "codemirror_mode": {
    "name": "ipython",
    "version": 3
   },
   "file_extension": ".py",
   "mimetype": "text/x-python",
   "name": "python",
   "nbconvert_exporter": "python",
   "pygments_lexer": "ipython3",
   "version": "3.8.3"
  }
 },
 "nbformat": 4,
 "nbformat_minor": 4
}
