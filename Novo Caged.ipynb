{
 "cells": [
  {
   "cell_type": "code",
   "execution_count": 17,
   "metadata": {},
   "outputs": [],
   "source": [
    "import pandas as pd\n",
    "pd.set_option('mode.chained_assignment', None)"
   ]
  },
  {
   "cell_type": "code",
   "execution_count": 35,
   "metadata": {},
   "outputs": [],
   "source": [
    "cols =[\n",
    "    'município', \n",
    "    'seção',\n",
    "    'categoria',\n",
    "    'graudeinstrução',\n",
    "    'sexo',\n",
    "    'tipomovimentação',\n",
    "    'raçacor',\n",
    "]\n",
    "newcols=[\n",
    "    'municipio',\n",
    "    'secao',\n",
    "    'categoria',\n",
    "    'instrucao',\n",
    "    'genero',\n",
    "    'tipo',\n",
    "    'raca'\n",
    "]\n",
    "data = [jan, fev, mar]"
   ]
  },
  {
   "cell_type": "code",
   "execution_count": 60,
   "metadata": {},
   "outputs": [],
   "source": [
    "def rename(df):\n",
    "    for i in range(len(df)):\n",
    "        df[i].rename(columns=dict(zip(cols, newcols)), inplace=True)\n",
    "        df[i] = df[i].loc[data[i]['municipio']==410690]\n",
    "        df[i].loc[df[i]['genero']==1,'genero'] = 'M'\n",
    "        df[i].loc[df[i]['genero']==3,'genero'] = 'F'\n",
    "        df[i].loc[df[i]['genero']==9,'genero'] = 'N/I'\n",
    "        df[i].loc[df[i]['secao']=='A','secao'] = 'Agricultura/Pecuária'\n",
    "        df[i].loc[df[i]['secao']=='B','secao'] = 'Ind. Extrativas'\n",
    "        df[i].loc[df[i]['secao']=='C','secao'] = 'Ind. Transformação'\n",
    "        df[i].loc[df[i]['secao']=='D','secao'] = 'Eletricidade/Gás'\n",
    "        df[i].loc[df[i]['secao']=='E','secao'] = 'Água/Esgoto'\n",
    "        df[i].loc[df[i]['secao']=='F','secao'] = 'Construção'\n",
    "        df[i].loc[df[i]['secao']=='G','secao'] = 'Comércio'\n",
    "        df[i].loc[df[i]['secao']=='H','secao'] = 'Transporte'\n",
    "        df[i].loc[df[i]['secao']=='I','secao'] = 'Alimentação'\n",
    "        df[i].loc[df[i]['secao']=='J','secao'] = 'Informação'\n",
    "        df[i].loc[df[i]['secao']=='K','secao'] = 'Financeiros'\n",
    "        df[i].loc[df[i]['secao']=='L','secao'] = 'Imobiliárias'\n",
    "        df[i].loc[df[i]['secao']=='M','secao'] = 'Profissionais'\n",
    "        df[i].loc[df[i]['secao']=='N','secao'] = 'Administrativas'\n",
    "        df[i].loc[df[i]['secao']=='O','secao'] = 'Adm Pública'\n",
    "        df[i].loc[df[i]['secao']=='P','secao'] = 'Educação'\n",
    "        df[i].loc[df[i]['secao']=='Q','secao'] = 'Saúde'\n",
    "        df[i].loc[df[i]['secao']=='R','secao'] = 'Artes/Cultura'\n",
    "        df[i].loc[df[i]['secao']=='S','secao'] = 'Outros Serviços'\n",
    "        df[i].loc[df[i]['secao']=='T','secao'] = 'Domésticos'\n",
    "        df[i].loc[df[i]['secao']=='U','secao'] = 'Org. Internacionais'\n",
    "        df[i].loc[df[i]['secao']=='Z','secao'] = 'Não Identificados'\n",
    "        df[i].loc[df[i]['categoria']==101,'categoria'] = 'CLT'\n",
    "        df[i].loc[df[i]['categoria']==102,'categoria'] = 'Trab. Rural'\n",
    "        df[i].loc[df[i]['categoria']==103,'categoria'] = 'Aprendiz'\n",
    "        df[i].loc[df[i]['categoria']==104,'categoria'] = 'Doméstico'\n",
    "        df[i].loc[df[i]['categoria']==105,'categoria'] = 'Contrato a Termo'\n",
    "        df[i].loc[df[i]['categoria']==106,'categoria'] = 'Temporário'\n",
    "        df[i].loc[df[i]['categoria']==107,'categoria'] = 'VA/Sem acordo'\n",
    "        df[i].loc[df[i]['categoria']==108,'categoria'] = 'VA/Com acordo'\n",
    "        df[i].loc[df[i]['categoria']==111,'categoria'] = 'Intermitente'\n",
    "        df[i].loc[df[i]['categoria']==999,'categoria'] = 'Não Identificado'\n",
    "        df[i].loc[df[i]['instrucao']==1,'instrucao'] = 'Analfabeto'\n",
    "        df[i].loc[df[i]['instrucao']==2,'instrucao'] = '5º Incompleto'\n",
    "        df[i].loc[df[i]['instrucao']==3,'instrucao'] = '5º Fundamental'\n",
    "        df[i].loc[df[i]['instrucao']==4,'instrucao'] = '6º a 9º Fundamental'\n",
    "        df[i].loc[df[i]['instrucao']==5,'instrucao'] = 'Fundamental Completo'\n",
    "        df[i].loc[df[i]['instrucao']==6,'instrucao'] = 'Médio Incompleto'\n",
    "        df[i].loc[df[i]['instrucao']==7,'instrucao'] = 'Médio Completo'\n",
    "        df[i].loc[df[i]['instrucao']==8,'instrucao'] = 'Superior Incompleto'\n",
    "        df[i].loc[df[i]['instrucao']==9,'instrucao'] = 'Superior Completo'\n",
    "        df[i].loc[df[i]['instrucao']==10,'instrucao'] = 'Mestrado'\n",
    "        df[i].loc[df[i]['instrucao']==11,'instrucao'] = 'Doutorado'\n",
    "        df[i].loc[df[i]['instrucao']==80,'instrucao'] = 'Pós Graduação Completa'\n",
    "        df[i].loc[df[i]['instrucao']==99,'instrucao'] = 'Não Identificado'\n",
    "        df[i].loc[df[i]['raca']==1,'raca'] = 'Branca'\n",
    "        df[i].loc[df[i]['raca']==2,'raca'] = 'Preta'\n",
    "        df[i].loc[df[i]['raca']==3,'raca'] = 'Parda'\n",
    "        df[i].loc[df[i]['raca']==4,'raca'] = 'Amarela'\n",
    "        df[i].loc[df[i]['raca']==5,'raca'] = 'Indígena'\n",
    "        df[i].loc[df[i]['raca']==6,'raca'] = 'Não Informada'\n",
    "        df[i].loc[df[i]['raca']==9,'raca'] = 'Não Identificado'"
   ]
  },
  {
   "cell_type": "code",
   "execution_count": 61,
   "metadata": {},
   "outputs": [],
   "source": [
    "jan = pd.read_csv('datasets/2020/CAGEDMOV202001.txt', sep=';', usecols=cols)\n",
    "fev = pd.read_csv('datasets/2020/CAGEDMOV202002.txt', sep=';', usecols=cols)\n",
    "mar = pd.read_csv('datasets/2020/CAGEDMOV202003.txt', sep=';', usecols=cols)"
   ]
  },
  {
   "cell_type": "code",
   "execution_count": 62,
   "metadata": {},
   "outputs": [],
   "source": [
    "rename(data)"
   ]
  },
  {
   "cell_type": "code",
   "execution_count": 63,
   "metadata": {},
   "outputs": [
    {
     "data": {
      "text/html": [
       "<div>\n",
       "<style scoped>\n",
       "    .dataframe tbody tr th:only-of-type {\n",
       "        vertical-align: middle;\n",
       "    }\n",
       "\n",
       "    .dataframe tbody tr th {\n",
       "        vertical-align: top;\n",
       "    }\n",
       "\n",
       "    .dataframe thead th {\n",
       "        text-align: right;\n",
       "    }\n",
       "</style>\n",
       "<table border=\"1\" class=\"dataframe\">\n",
       "  <thead>\n",
       "    <tr style=\"text-align: right;\">\n",
       "      <th></th>\n",
       "      <th>municipio</th>\n",
       "      <th>secao</th>\n",
       "      <th>categoria</th>\n",
       "      <th>instrucao</th>\n",
       "      <th>genero</th>\n",
       "      <th>tipo</th>\n",
       "      <th>raca</th>\n",
       "    </tr>\n",
       "  </thead>\n",
       "  <tbody>\n",
       "    <tr>\n",
       "      <th>2617203</th>\n",
       "      <td>410690</td>\n",
       "      <td>Alimentação</td>\n",
       "      <td>CLT</td>\n",
       "      <td>Fundamental Completo</td>\n",
       "      <td>M</td>\n",
       "      <td>20</td>\n",
       "      <td>Branca</td>\n",
       "    </tr>\n",
       "    <tr>\n",
       "      <th>2617230</th>\n",
       "      <td>410690</td>\n",
       "      <td>Administrativas</td>\n",
       "      <td>Temporário</td>\n",
       "      <td>Médio Completo</td>\n",
       "      <td>M</td>\n",
       "      <td>43</td>\n",
       "      <td>Não Informada</td>\n",
       "    </tr>\n",
       "    <tr>\n",
       "      <th>2617252</th>\n",
       "      <td>410690</td>\n",
       "      <td>Ind. Transformação</td>\n",
       "      <td>Não Identificado</td>\n",
       "      <td>Médio Completo</td>\n",
       "      <td>F</td>\n",
       "      <td>20</td>\n",
       "      <td>Branca</td>\n",
       "    </tr>\n",
       "    <tr>\n",
       "      <th>2617268</th>\n",
       "      <td>410690</td>\n",
       "      <td>Administrativas</td>\n",
       "      <td>Contrato a Termo</td>\n",
       "      <td>Médio Completo</td>\n",
       "      <td>M</td>\n",
       "      <td>40</td>\n",
       "      <td>Branca</td>\n",
       "    </tr>\n",
       "    <tr>\n",
       "      <th>2617305</th>\n",
       "      <td>410690</td>\n",
       "      <td>Comércio</td>\n",
       "      <td>CLT</td>\n",
       "      <td>Fundamental Completo</td>\n",
       "      <td>F</td>\n",
       "      <td>20</td>\n",
       "      <td>Branca</td>\n",
       "    </tr>\n",
       "  </tbody>\n",
       "</table>\n",
       "</div>"
      ],
      "text/plain": [
       "         municipio               secao         categoria  \\\n",
       "2617203     410690         Alimentação               CLT   \n",
       "2617230     410690     Administrativas        Temporário   \n",
       "2617252     410690  Ind. Transformação  Não Identificado   \n",
       "2617268     410690     Administrativas  Contrato a Termo   \n",
       "2617305     410690            Comércio               CLT   \n",
       "\n",
       "                    instrucao genero  tipo           raca  \n",
       "2617203  Fundamental Completo      M    20         Branca  \n",
       "2617230        Médio Completo      M    43  Não Informada  \n",
       "2617252        Médio Completo      F    20         Branca  \n",
       "2617268        Médio Completo      M    40         Branca  \n",
       "2617305  Fundamental Completo      F    20         Branca  "
      ]
     },
     "execution_count": 63,
     "metadata": {},
     "output_type": "execute_result"
    }
   ],
   "source": [
    "data[0].tail()"
   ]
  },
  {
   "cell_type": "code",
   "execution_count": 64,
   "metadata": {},
   "outputs": [],
   "source": [
    "# Incluir Coluna informando admissão/desligamento \n",
    "\n"
   ]
  },
  {
   "cell_type": "code",
   "execution_count": 69,
   "metadata": {},
   "outputs": [
    {
     "data": {
      "text/plain": [
       "raca\n",
       "Amarela               282\n",
       "Branca              38188\n",
       "Indígena              216\n",
       "Não Identificado      239\n",
       "Não Informada       17381\n",
       "Parda               10780\n",
       "Preta                2083\n",
       "dtype: int64"
      ]
     },
     "execution_count": 69,
     "metadata": {},
     "output_type": "execute_result"
    }
   ],
   "source": [
    "group = data[1].groupby(['raca']).size()\n",
    "group"
   ]
  },
  {
   "cell_type": "code",
   "execution_count": null,
   "metadata": {},
   "outputs": [],
   "source": []
  }
 ],
 "metadata": {
  "kernelspec": {
   "display_name": "Python 3",
   "language": "python",
   "name": "python3"
  },
  "language_info": {
   "codemirror_mode": {
    "name": "ipython",
    "version": 3
   },
   "file_extension": ".py",
   "mimetype": "text/x-python",
   "name": "python",
   "nbconvert_exporter": "python",
   "pygments_lexer": "ipython3",
   "version": "3.8.3"
  }
 },
 "nbformat": 4,
 "nbformat_minor": 4
}
